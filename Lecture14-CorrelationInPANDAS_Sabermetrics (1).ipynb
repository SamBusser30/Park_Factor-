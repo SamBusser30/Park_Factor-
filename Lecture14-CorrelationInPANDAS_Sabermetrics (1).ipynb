{
 "cells": [
  {
   "cell_type": "markdown",
   "metadata": {},
   "source": [
    "# Lecture 14: Introduction to Correlation and Regression in PANDAS \n",
    "***\n",
    "\n",
    "Correlation describes the relationship between two variables. If variables are correlated, we can say that they change relative to each other. As one increases, the other might increase or decrease. We can quantify the strength of that correlation.\n",
    "\n",
    "Start by loading Numpy and Pandas using their common aliases, np and pd. "
   ]
  },
  {
   "cell_type": "code",
   "execution_count": 2,
   "metadata": {
    "collapsed": true
   },
   "outputs": [],
   "source": [
    "import numpy as np \n",
    "import pandas as pd"
   ]
  },
  {
   "cell_type": "markdown",
   "metadata": {},
   "source": [
    "We're going to use Matplotlib's Pylab library, so let's load that. Doing it this way, we can view the plots directly in the notebook.  "
   ]
  },
  {
   "cell_type": "code",
   "execution_count": 3,
   "metadata": {
    "collapsed": true
   },
   "outputs": [],
   "source": [
    "import matplotlib.pylab as plt\n",
    "%matplotlib inline"
   ]
  },
  {
   "cell_type": "markdown",
   "metadata": {},
   "source": [
    "I created a .csv file of some offensive statistics, such as hits and runs, as well as ERA and attendance for every team 2011 - 2016, downloaded from the Lahman database.\n",
    "\n",
    "The file, teamWinsAndBatting.csv, is on Moodle.\n",
    "\n",
    "We can load the data into a Pandas DataFrame using read_csv( ). You may need to change the file_path variable to point to the correct location. "
   ]
  },
  {
   "cell_type": "code",
   "execution_count": 4,
   "metadata": {},
   "outputs": [
    {
     "data": {
      "text/html": [
       "<div>\n",
       "<table border=\"1\" class=\"dataframe\">\n",
       "  <thead>\n",
       "    <tr style=\"text-align: right;\">\n",
       "      <th></th>\n",
       "      <th>yearID</th>\n",
       "      <th>teamID</th>\n",
       "      <th>W</th>\n",
       "      <th>R</th>\n",
       "      <th>H</th>\n",
       "      <th>SO</th>\n",
       "      <th>BB</th>\n",
       "      <th>SF</th>\n",
       "      <th>ERA</th>\n",
       "      <th>attendance</th>\n",
       "    </tr>\n",
       "  </thead>\n",
       "  <tbody>\n",
       "    <tr>\n",
       "      <th>0</th>\n",
       "      <td>2011</td>\n",
       "      <td>ARI</td>\n",
       "      <td>94</td>\n",
       "      <td>731</td>\n",
       "      <td>1357</td>\n",
       "      <td>1249</td>\n",
       "      <td>531</td>\n",
       "      <td>33</td>\n",
       "      <td>3.80</td>\n",
       "      <td>2105432</td>\n",
       "    </tr>\n",
       "    <tr>\n",
       "      <th>1</th>\n",
       "      <td>2011</td>\n",
       "      <td>ATL</td>\n",
       "      <td>89</td>\n",
       "      <td>641</td>\n",
       "      <td>1345</td>\n",
       "      <td>1260</td>\n",
       "      <td>504</td>\n",
       "      <td>30</td>\n",
       "      <td>3.48</td>\n",
       "      <td>2372940</td>\n",
       "    </tr>\n",
       "    <tr>\n",
       "      <th>2</th>\n",
       "      <td>2011</td>\n",
       "      <td>BAL</td>\n",
       "      <td>69</td>\n",
       "      <td>708</td>\n",
       "      <td>1434</td>\n",
       "      <td>1120</td>\n",
       "      <td>452</td>\n",
       "      <td>43</td>\n",
       "      <td>4.89</td>\n",
       "      <td>1755461</td>\n",
       "    </tr>\n",
       "    <tr>\n",
       "      <th>3</th>\n",
       "      <td>2011</td>\n",
       "      <td>BOS</td>\n",
       "      <td>90</td>\n",
       "      <td>875</td>\n",
       "      <td>1600</td>\n",
       "      <td>1108</td>\n",
       "      <td>578</td>\n",
       "      <td>50</td>\n",
       "      <td>4.20</td>\n",
       "      <td>3054001</td>\n",
       "    </tr>\n",
       "    <tr>\n",
       "      <th>4</th>\n",
       "      <td>2011</td>\n",
       "      <td>CHA</td>\n",
       "      <td>79</td>\n",
       "      <td>654</td>\n",
       "      <td>1387</td>\n",
       "      <td>989</td>\n",
       "      <td>475</td>\n",
       "      <td>46</td>\n",
       "      <td>4.10</td>\n",
       "      <td>2001117</td>\n",
       "    </tr>\n",
       "  </tbody>\n",
       "</table>\n",
       "</div>"
      ],
      "text/plain": [
       "   yearID teamID   W    R     H    SO   BB  SF   ERA  attendance\n",
       "0    2011    ARI  94  731  1357  1249  531  33  3.80     2105432\n",
       "1    2011    ATL  89  641  1345  1260  504  30  3.48     2372940\n",
       "2    2011    BAL  69  708  1434  1120  452  43  4.89     1755461\n",
       "3    2011    BOS  90  875  1600  1108  578  50  4.20     3054001\n",
       "4    2011    CHA  79  654  1387   989  475  46  4.10     2001117"
      ]
     },
     "execution_count": 4,
     "metadata": {},
     "output_type": "execute_result"
    }
   ],
   "source": [
    "local_path = 'data/teamWinsAndBatting.csv'\n",
    "\n",
    "# Select the path that works for you \n",
    "file_path = local_path \n",
    "\n",
    "# Load the data into a DataFrame \n",
    "dfTW= pd.read_csv(file_path)\n",
    "\n",
    "# Inspect some of the data\n",
    "dfTW.head()"
   ]
  },
  {
   "cell_type": "markdown",
   "metadata": {},
   "source": [
    "The data has columns for: \n",
    "\n",
    "- **yearID**: The year \n",
    "- **teamID**: The team \n",
    "- **W**: Number of wins for the team that year\n",
    "- **R**: Number of runs the team scored that year\n",
    "- **H**: Number of hits the team got that year\n",
    "- **SO**: Number of strikeouts the team had that year while batting\n",
    "- **BB**: Number of walks the team received that year\n",
    "- **SF**: Number of sacrifice flies the team hit that year\n",
    "- **ERA**: Team ERA for pitchers\n",
    "- **attendance**: Total number of people who attended the games that year"
   ]
  },
  {
   "cell_type": "markdown",
   "metadata": {},
   "source": [
    "## Can we predict Wins?\n",
    "\n",
    "We care about team wins more than anything else, and we want to know if there's anything in the other data that will help us predict how many games a team is going to win.\n",
    "\n",
    "### Scatterplots \n",
    "\n",
    "We can start by visualizing our data to see if anything jumps out. Maybe we start with the hypothesis that teams that score more runs win more games.\n",
    "\n",
    "To visualize the relationships between different variables, it can be helpful to create a scatterplot of the data. The following code generates a scatter plot depicting the relationship between Wins and Runs. We put Runs on the x-axis as the independent variable and Wins on the y-axis as the dependent variable. \n",
    "\n",
    "From the plot, we determine: \n",
    "\n",
    "- There appears to be a relationship between the number of runs a team scores and the number of wins they get. \n",
    "- Wins increases as Runs increases\n",
    "- Not a perfectly linearly relationship. \n",
    "- Several data points of teams with few Runs and many Wins."
   ]
  },
  {
   "cell_type": "code",
   "execution_count": 32,
   "metadata": {},
   "outputs": [
    {
     "data": {
      "text/plain": [
       "<matplotlib.text.Text at 0x11852d550>"
      ]
     },
     "execution_count": 32,
     "metadata": {},
     "output_type": "execute_result"
    },
    {
     "data": {
      "image/png": "[encoded data removed]",
      "text/plain": [
       "<matplotlib.figure.Figure at 0x1181f0828>"
      ]
     },
     "metadata": {},
     "output_type": "display_data"
    }
   ],
   "source": [
    "fig, axes = plt.subplots(nrows=1, ncols=1, figsize=(6,6))\n",
    "axes.scatter(dfTW[\"R\"], dfTW[\"W\"], color = \"steelblue\")\n",
    "axes.grid(alpha=0.25)\n",
    "axes.set_xlabel(\"Runs scored\", fontsize=16)\n",
    "axes.set_ylabel(\"Wins\", fontsize=16)\n",
    "axes.set_title(\"Wins vs. Runs scored\", fontsize=16)"
   ]
  },
  {
   "cell_type": "markdown",
   "metadata": {},
   "source": [
    "### Exercise 1\n",
    "***\n",
    "Explore scatterplots with other variables. Comment on how other variables change relative to each other, and Wins."
   ]
  },
  {
   "cell_type": "code",
   "execution_count": null,
   "metadata": {},
   "outputs": [],
   "source": []
  },
  {
   "cell_type": "markdown",
   "metadata": {},
   "source": [
    "## Correlation  - Pearson's R\n",
    "***\n",
    "\n",
    "We can evaluate the strength, and the direction, of the linear relationship between two variables using Pearson's R. We get a score +/-1, where +1 signifies a strong positive relationship - as one variable is increasing, so is the other variable - and -1 signifies a strong negative relationship - as one variable is increasing, the other variable is decreasing. We calculate the correlation using the Z-scores for each variable:\n",
    "\n",
    "$$ r = \\frac{\\sum{Z_xZ_y}}{n} $$\n",
    "\n",
    "In Pandas, there is a correlation method that we can call on a column in our data frame. Here, we see the correlation between Wins and Runs:"
   ]
  },
  {
   "cell_type": "code",
   "execution_count": 6,
   "metadata": {
    "scrolled": true
   },
   "outputs": [
    {
     "data": {
      "text/plain": [
       "0.52525369387651744"
      ]
     },
     "execution_count": 6,
     "metadata": {},
     "output_type": "execute_result"
    }
   ],
   "source": [
    "dfTW['W'].corr(dfTW['R'], method='pearson')"
   ]
  },
  {
   "cell_type": "markdown",
   "metadata": {},
   "source": [
    "We can also call corr on the entire data frame, which gives us the pairwise correlations between all numerical variables. We can drop individual columns, such as yearID, where it doesn't really make sense to do a correlation score."
   ]
  },
  {
   "cell_type": "code",
   "execution_count": 7,
   "metadata": {
    "scrolled": true
   },
   "outputs": [
    {
     "data": {
      "text/html": [
       "<div>\n",
       "<table border=\"1\" class=\"dataframe\">\n",
       "  <thead>\n",
       "    <tr style=\"text-align: right;\">\n",
       "      <th></th>\n",
       "      <th>W</th>\n",
       "      <th>R</th>\n",
       "      <th>H</th>\n",
       "      <th>SO</th>\n",
       "      <th>BB</th>\n",
       "      <th>SF</th>\n",
       "      <th>ERA</th>\n",
       "      <th>attendance</th>\n",
       "    </tr>\n",
       "  </thead>\n",
       "  <tbody>\n",
       "    <tr>\n",
       "      <th>W</th>\n",
       "      <td>1.000000</td>\n",
       "      <td>0.525254</td>\n",
       "      <td>0.300618</td>\n",
       "      <td>-0.177205</td>\n",
       "      <td>0.412843</td>\n",
       "      <td>0.258277</td>\n",
       "      <td>-0.718398</td>\n",
       "      <td>0.410191</td>\n",
       "    </tr>\n",
       "    <tr>\n",
       "      <th>R</th>\n",
       "      <td>0.525254</td>\n",
       "      <td>1.000000</td>\n",
       "      <td>0.730222</td>\n",
       "      <td>-0.171321</td>\n",
       "      <td>0.433201</td>\n",
       "      <td>0.418392</td>\n",
       "      <td>0.078052</td>\n",
       "      <td>0.318523</td>\n",
       "    </tr>\n",
       "    <tr>\n",
       "      <th>H</th>\n",
       "      <td>0.300618</td>\n",
       "      <td>0.730222</td>\n",
       "      <td>1.000000</td>\n",
       "      <td>-0.455287</td>\n",
       "      <td>0.038481</td>\n",
       "      <td>0.415964</td>\n",
       "      <td>0.184194</td>\n",
       "      <td>0.325897</td>\n",
       "    </tr>\n",
       "    <tr>\n",
       "      <th>SO</th>\n",
       "      <td>-0.177205</td>\n",
       "      <td>-0.171321</td>\n",
       "      <td>-0.455287</td>\n",
       "      <td>1.000000</td>\n",
       "      <td>0.117221</td>\n",
       "      <td>-0.323982</td>\n",
       "      <td>0.072697</td>\n",
       "      <td>-0.258297</td>\n",
       "    </tr>\n",
       "    <tr>\n",
       "      <th>BB</th>\n",
       "      <td>0.412843</td>\n",
       "      <td>0.433201</td>\n",
       "      <td>0.038481</td>\n",
       "      <td>0.117221</td>\n",
       "      <td>1.000000</td>\n",
       "      <td>0.254327</td>\n",
       "      <td>-0.280137</td>\n",
       "      <td>0.127303</td>\n",
       "    </tr>\n",
       "    <tr>\n",
       "      <th>SF</th>\n",
       "      <td>0.258277</td>\n",
       "      <td>0.418392</td>\n",
       "      <td>0.415964</td>\n",
       "      <td>-0.323982</td>\n",
       "      <td>0.254327</td>\n",
       "      <td>1.000000</td>\n",
       "      <td>-0.068330</td>\n",
       "      <td>0.096702</td>\n",
       "    </tr>\n",
       "    <tr>\n",
       "      <th>ERA</th>\n",
       "      <td>-0.718398</td>\n",
       "      <td>0.078052</td>\n",
       "      <td>0.184194</td>\n",
       "      <td>0.072697</td>\n",
       "      <td>-0.280137</td>\n",
       "      <td>-0.068330</td>\n",
       "      <td>1.000000</td>\n",
       "      <td>-0.216473</td>\n",
       "    </tr>\n",
       "    <tr>\n",
       "      <th>attendance</th>\n",
       "      <td>0.410191</td>\n",
       "      <td>0.318523</td>\n",
       "      <td>0.325897</td>\n",
       "      <td>-0.258297</td>\n",
       "      <td>0.127303</td>\n",
       "      <td>0.096702</td>\n",
       "      <td>-0.216473</td>\n",
       "      <td>1.000000</td>\n",
       "    </tr>\n",
       "  </tbody>\n",
       "</table>\n",
       "</div>"
      ],
      "text/plain": [
       "                   W         R         H        SO        BB        SF  \\\n",
       "W           1.000000  0.525254  0.300618 -0.177205  0.412843  0.258277   \n",
       "R           0.525254  1.000000  0.730222 -0.171321  0.433201  0.418392   \n",
       "H           0.300618  0.730222  1.000000 -0.455287  0.038481  0.415964   \n",
       "SO         -0.177205 -0.171321 -0.455287  1.000000  0.117221 -0.323982   \n",
       "BB          0.412843  0.433201  0.038481  0.117221  1.000000  0.254327   \n",
       "SF          0.258277  0.418392  0.415964 -0.323982  0.254327  1.000000   \n",
       "ERA        -0.718398  0.078052  0.184194  0.072697 -0.280137 -0.068330   \n",
       "attendance  0.410191  0.318523  0.325897 -0.258297  0.127303  0.096702   \n",
       "\n",
       "                 ERA  attendance  \n",
       "W          -0.718398    0.410191  \n",
       "R           0.078052    0.318523  \n",
       "H           0.184194    0.325897  \n",
       "SO          0.072697   -0.258297  \n",
       "BB         -0.280137    0.127303  \n",
       "SF         -0.068330    0.096702  \n",
       "ERA         1.000000   -0.216473  \n",
       "attendance -0.216473    1.000000  "
      ]
     },
     "execution_count": 7,
     "metadata": {},
     "output_type": "execute_result"
    }
   ],
   "source": [
    "dfTW.drop(['yearID'], axis=1).corr(method='pearson')"
   ]
  },
  {
   "cell_type": "markdown",
   "metadata": {},
   "source": [
    "From the data, we see a few things\n",
    "- There is a strong negative correlation between ERA and Wins.\n",
    "- There is a strong positive correlation between Hits and Runs\n",
    "- The strongest positive correlation with attendance is Wins, and the strongest negative correlation is Strikeouts\n",
    "- Strike outs are also negatively correlated with Hits."
   ]
  },
  {
   "cell_type": "markdown",
   "metadata": {},
   "source": [
    "### Coefficient of determination, $R^2$\n",
    "***\n",
    "The coefficient of determination, more commonly known as $R^2$, measures the proportion of variance in Y explained by X, e.g. How much does Runs explain the variance in Wins. Using the R for Runs and Wins, we calculate:\n",
    "\n",
    "$$(0.525254)^2 = 0.2759$$\n",
    "\n",
    "which tells us that 27.59% of the variance in Wins can be explained by how many Runs a team scores. That's not very much."
   ]
  },
  {
   "cell_type": "code",
   "execution_count": 33,
   "metadata": {
    "scrolled": true
   },
   "outputs": [
    {
     "data": {
      "text/plain": [
       "0.27589144293092627"
      ]
     },
     "execution_count": 33,
     "metadata": {},
     "output_type": "execute_result"
    }
   ],
   "source": [
    "dfTW['W'].corr(dfTW['R'], method='pearson')**2"
   ]
  },
  {
   "cell_type": "markdown",
   "metadata": {},
   "source": [
    "### Linear Regression \n",
    "***\n",
    "  "
   ]
  },
  {
   "cell_type": "code",
   "execution_count": 31,
   "metadata": {},
   "outputs": [
    {
     "data": {
      "text/plain": [
       "<matplotlib.legend.Legend at 0x118355f98>"
      ]
     },
     "execution_count": 31,
     "metadata": {},
     "output_type": "execute_result"
    },
    {
     "data": {
      "image/png": "[encoded data removed]",
      "text/plain": [
       "<matplotlib.figure.Figure at 0x1181ea4e0>"
      ]
     },
     "metadata": {},
     "output_type": "display_data"
    }
   ],
   "source": [
    "#def plot_line():\n",
    "m = 0.086\n",
    "b = 21.63\n",
    "y = m * dfTW['R'].copy() + b\n",
    "x = dfTW['R'].copy()\n",
    "fig, ax = plt.subplots()\n",
    "scatter = ax.scatter(x,dfTW['W'],marker='o',label=\"W vs. R\")\n",
    "line = ax.plot(x,y, color='red',label=\"W vs. R predicted\")\n",
    "ax.set_xlabel(\"Runs\", fontsize=16)\n",
    "ax.set_ylabel(\"Wins\", fontsize=16)\n",
    "plt.legend()"
   ]
  },
  {
   "cell_type": "markdown",
   "metadata": {},
   "source": [
    "Note that the result is a standard box-and-whiskers plot with a box, where\n",
    "* The top of the box is Q3 - the upper quartile\n",
    "* The bottom of the box is Q1 - the lower quartile\n",
    "* The median line is in the middle of the box\n",
    "* Whisker lines are furthest points that are not outliers\n",
    "* Outliers that fall more than $1.5 \\times IQR$ outside of the nearest quartile. \n",
    "\n",
    "Unfortunately, the default parameters don't lend themselves well to easy-to-read plots, so we'll make a few tweaks. "
   ]
  },
  {
   "cell_type": "code",
   "execution_count": 48,
   "metadata": {},
   "outputs": [
    {
     "data": {
      "image/png": "[encoded data removed]",
      "text/plain": [
       "<matplotlib.figure.Figure at 0x1191789e8>"
      ]
     },
     "metadata": {},
     "output_type": "display_data"
    }
   ],
   "source": [
    "# Initialize figure \n",
    "fig, ax = plt.subplots(figsize=(6,6))\n",
    "\n",
    "\n",
    "# Plot histogram, but this time return dictionary of style parameters for modification after the fact \n",
    "bp = dfMS.boxplot(column=\"salary\", ax=ax, widths=[.25], return_type='dict');\n",
    "\n",
    "# ---------------------------------------\n",
    "# Set properties of various parts of plot \n",
    "# ---------------------------------------\n",
    "\n",
    "# Change properties of boxes \n",
    "for box in bp['boxes']:\n",
    "    box.set(color='steelblue', linewidth=2)\n",
    "    \n",
    "# Change properties of whiskers \n",
    "for whisker in bp['whiskers']:\n",
    "    whisker.set(color='gray', linewidth=2)\n",
    "    \n",
    "# Change properties of caps \n",
    "for cap in bp['caps']:\n",
    "    cap.set(color='gray', linewidth=2)\n",
    "    \n",
    "# Change properties of median \n",
    "for cap in bp['medians']:\n",
    "    cap.set(color='green', linewidth=2, alpha=0.5)\n",
    "    \n",
    "# Change properties of fliers (outliers) \n",
    "for flier in bp['fliers']:\n",
    "    flier.set(markerfacecolor='steelblue', linewidth=2, marker='s', markersize=6, alpha=0.5)\n",
    "\n",
    "# Set title and vertical axis label\n",
    "ax.set_title('Max salaries per team 2010-2016', fontsize=18)\n",
    "ax.set_ylabel(\"$\", fontsize=16)\n",
    "\n",
    "# Make grid-lines lighter\n",
    "ax.grid(alpha=0.25)"
   ]
  },
  {
   "cell_type": "markdown",
   "metadata": {},
   "source": [
    "Notice that the default settings for boxplot( ) gives us whiskers and outliers as described in lecture.  That is, the length of the whiskers are set equal to the largest distance between an observation and the upper or lower quartile that is less than $1.5 \\times IQR$.  Any data point beyond this distance is drawn as an outlier (or a _flier_ as Pandas calls them).   \n",
    "\n",
    "Box-and-whisker plots are great for visualizing the spread of the data, outliers, and skew of the data.  For instance, from this box-and-whisker plot we can tell that the data is symetric because the median is evenly between the upper quartile $Q_3$ and the lower quartile $Q_1$. The data also includes outliers in the higher salary range. \n",
    "\n",
    "Box-and-whisker plots are especially useful for comparing multiple sets of observations.  For instance, we can use side-by-side box-and-whisker plots to compare the salaries at different positions. We already created a data frame from the pitchers data. We could compare pitchers to outfielders, for example.\n",
    "\n",
    "Note that the trick here is to select the rows of the DataFrame corresponding only to POS = P or POS = OF and then call boxplot( ) with the **by** parameter to break the data into the two sets based on the value of the **POS** column.  "
   ]
  },
  {
   "cell_type": "code",
   "execution_count": 66,
   "metadata": {},
   "outputs": [
    {
     "data": {
      "image/png": "[encoded data removed]",
      "text/plain": [
       "<matplotlib.figure.Figure at 0x119218400>"
      ]
     },
     "metadata": {},
     "output_type": "display_data"
    }
   ],
   "source": [
    "# Initialize figure \n",
    "fig, ax = plt.subplots(figsize=(6,8))\n",
    "\n",
    "# To get just the columns corresponding to P and OF, we \n",
    "# select only the rows of the DataFrame coresponding to those names, then \n",
    "# call boxplot and pass by=\"POS\" to break the data into the two sets \n",
    "bp = dfMS.loc[(dfMS[\"POS\"]=='P') | (dfMS[\"POS\"]=='OF')].boxplot(\n",
    "    column=[\"salary\"], by=\"POS\", ax=ax, widths=[.5, .5], return_type=\"dict\")\n",
    "\n",
    "# This time, bp is a Pandas series containing multiple dictionaries\n",
    "# corresponding to the two sets of data. We loop over each one individually \n",
    "# and set the parameters we want \n",
    "for column in bp:\n",
    "    \n",
    "    # Change properties in boxes \n",
    "    for box in column['boxes']:\n",
    "        box.set(color='steelblue', linewidth=2)\n",
    "    \n",
    "    # Change properties of whiskers \n",
    "    for whisker in column['whiskers']:\n",
    "        whisker.set(color='gray', linewidth=2)\n",
    "\n",
    "    # Change properties of caps \n",
    "    for cap in column['caps']:\n",
    "        cap.set(color='gray', linewidth=2)\n",
    "\n",
    "    # Change properties of median \n",
    "    for cap in column['medians']:\n",
    "        cap.set(color='green', linewidth=2, alpha=0.5)\n",
    "\n",
    "    # Change properties of fliers (outliers) \n",
    "    for cap in column['fliers']:\n",
    "        cap.set(markerfacecolor='steelblue', linewidth=2, marker='s', markersize=6, alpha=0.5)\n",
    "\n",
    "# Set title and vertical axis label\n",
    "ax.set_title('Pitchers vs. Outfielders', fontsize=18)\n",
    "ax.set_ylabel(\"salary\", fontsize=16)\n",
    "\n",
    "# Set names of plots\n",
    "plt.xticks([1,2],[\"Outfielders\", \"Pitchers\"], rotation=0, fontsize=16)\n",
    "\n",
    "# Get rid of automatically generated titles and xlables\n",
    "plt.suptitle(\"\")\n",
    "ax.set_xlabel(\"\")\n",
    "\n",
    "# Make grid-lines lighter\n",
    "ax.grid(alpha=0.25);"
   ]
  },
  {
   "cell_type": "markdown",
   "metadata": {},
   "source": [
    "From the side-by-side box-and-whiskers plots we can easily see several things \n",
    "\n",
    "- Pitchers have a larger salary range than outfielders\n",
    "- Pitchers are positively skewed, while outfielders are symetric \n",
    "- There is more variability in the middle 50% of the Pitchers data than in the middle 50% of the outfielders data"
   ]
  },
  {
   "cell_type": "markdown",
   "metadata": {},
   "source": [
    "### Exercise 4\n",
    "***\n",
    "\n",
    "Plot side-by-side box and whisker plots of the salary data for **all** positions individually. You might need to modify the plot parameters until you get a graphic that doesn't look too cramped.  Note that it might be helpful to make the figure much wider and rotate the horizontal labels 90 degrees. "
   ]
  },
  {
   "cell_type": "code",
   "execution_count": null,
   "metadata": {
    "collapsed": true
   },
   "outputs": [],
   "source": []
  },
  {
   "cell_type": "markdown",
   "metadata": {},
   "source": [
    "### Exercise 5\n",
    "***\n",
    "\n",
    "Produce a box and whisker plot of the winning pecentage data. Comment on how the box and whisker plot compares to the histogram for the same data. "
   ]
  },
  {
   "cell_type": "code",
   "execution_count": null,
   "metadata": {
    "collapsed": true
   },
   "outputs": [],
   "source": []
  }
 ],
 "metadata": {
  "kernelspec": {
   "display_name": "Python 3",
   "language": "python",
   "name": "python3"
  },
  "language_info": {
   "codemirror_mode": {
    "name": "ipython",
    "version": 3
   },
   "file_extension": ".py",
   "mimetype": "text/x-python",
   "name": "python",
   "nbconvert_exporter": "python",
   "pygments_lexer": "ipython3",
   "version": "3.6.1"
  }
 },
 "nbformat": 4,
 "nbformat_minor": 2
}
