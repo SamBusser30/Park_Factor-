{
 "cells": [
  {
   "cell_type": "code",
   "execution_count": 36,
   "metadata": {
    "collapsed": true
   },
   "outputs": [],
   "source": [
    "import pandas as pd\n",
    "import matplotlib.pyplot as plt\n",
    "import numpy as np"
   ]
  },
  {
   "cell_type": "code",
   "execution_count": 37,
   "metadata": {
    "collapsed": true
   },
   "outputs": [],
   "source": [
    "dfRetro = pd.read_csv('C:\\\\Users\\\\Sam\\\\Documents\\\\Data Mining\\\\Project\\\\retrosheet-events-plus-woba-2005_2015.csv')\n",
    "altitudes = pd.read_excel(\"C:\\\\Users\\\\Sam\\\\Documents\\\\Data Mining\\\\Project\\\\Park_Factor\\\\Project_Code\\\\MLB_Stadium_Altitudes.xlsx\")\n",
    "altitudes=altitudes.drop(21)"
   ]
  },
  {
   "cell_type": "code",
   "execution_count": 38,
   "metadata": {
    "collapsed": true
   },
   "outputs": [],
   "source": [
    "dfRetro = dfRetro.drop(['time_since_1900', 'wOBA_pts', 'bat_hand_cd', 'base1_run_id', 'base2_run_id', 'base3_run_id','pitch_seq_tx','po1_fld_cd', 'po2_fld_cd','pit_start_fl', 'pa_ball_ct', 'pa_strike_ct', 'bat_fate_id', 'run1_fate_id', 'run2_fate_id', 'run3_fate_id', 'battedball_cd', 'inn_new_fl', 'inn_end_fl', 'pit_hand_cd'], axis=1)\n"
   ]
  },
  {
   "cell_type": "code",
   "execution_count": 39,
   "metadata": {
    "collapsed": true
   },
   "outputs": [],
   "source": [
    "#now drop any unnecessary events we don't need \n",
    "#stolen bases (4), caught stealing (6), pickoff (8), \n",
    "\n",
    "dfRetro = dfRetro[dfRetro.event_cd != 4]\n",
    "dfRetro = dfRetro[dfRetro.event_cd != 6]\n",
    "dfRetro = dfRetro[dfRetro.event_cd != 8]\n"
   ]
  },
  {
   "cell_type": "code",
   "execution_count": 40,
   "metadata": {
    "collapsed": true
   },
   "outputs": [],
   "source": [
    "events_with_altitudes = pd.merge(dfRetro, altitudes, on='home_team_id')\n"
   ]
  },
  {
   "cell_type": "code",
   "execution_count": 41,
   "metadata": {
    "collapsed": true
   },
   "outputs": [],
   "source": [
    "#creating sorted array of team ids\n",
    "team_ids = []\n",
    "for ii in dfRetro.home_team_id.unique():\n",
    "    team_ids.append(ii)\n",
    "team_ids = sorted(team_ids)\n",
    "#initializing 2d array for total runs \n",
    "total_runs = [[0 for i in range(2)] for j in range(31)] \n",
    "for i in range(0,31):\n",
    "     total_runs[i][0] = team_ids[i]\n",
    "index = 0\n",
    "#getting total runs for each team\n",
    "for ii in team_ids:\n",
    "    dfTemp = dfRetro.loc[dfRetro['home_team_id'] == ii]\n",
    "    total_runs[index][1] = dfTemp['event_runs_ct'].sum()\n",
    "    index +=1\n",
    "    \n",
    "#combine Miami and Florida \n",
    "total_runs[15][1] += total_runs[11][1]\n",
    "del total_runs[11]"
   ]
  },
  {
   "cell_type": "code",
   "execution_count": 42,
   "metadata": {},
   "outputs": [],
   "source": [
    "#need to get total home runs per team\n",
    "home_runs = [[0 for i in range(2)] for j in range(31)] \n",
    "for i in range(0,31):\n",
    "     home_runs[i][0] = team_ids[i]\n",
    "index = 0\n",
    "#getting total runs for each team\n",
    "for ii in team_ids:\n",
    "    dfTemp = dfRetro.loc[dfRetro['home_team_id'] == ii]\n",
    "    dfTemp2 = dfTemp.loc[dfTemp['event_cd'] == 23]\n",
    "    home_runs[index][1] = dfTemp2['event_runs_ct'].sum()\n",
    "    index +=1\n",
    "    \n",
    "#combine Miami and Florida \n",
    "home_runs[15][1] += home_runs[11][1]\n",
    "del home_runs[11]"
   ]
  },
  {
   "cell_type": "code",
   "execution_count": 51,
   "metadata": {},
   "outputs": [
    {
     "name": "stdout",
     "output_type": "stream",
     "text": [
      "0.35399464123217955\n"
     ]
    }
   ],
   "source": [
    "##calculating league average for home run fraction \n",
    "league_runs = 0\n",
    "league_home_runs = 0\n",
    "for ii in range(len(total_runs)):\n",
    "    league_runs +=total_runs[ii][1] \n",
    "for ii in range(len(home_runs)):\n",
    "    league_home_runs += home_runs[ii][1]\n",
    "league_avg = league_home_runs/league_runs\n",
    "print(league_avg)"
   ]
  },
  {
   "cell_type": "code",
   "execution_count": 44,
   "metadata": {},
   "outputs": [
    {
     "data": {
      "text/plain": [
       "[0.33512450851900394,\n",
       " 0.3537674086418284,\n",
       " 0.3326208923323537,\n",
       " 0.4187174633222906,\n",
       " 0.3240512014372333,\n",
       " 0.4185334802301383,\n",
       " 0.3744159616113146,\n",
       " 0.4297247706422018,\n",
       " 0.34641595153962645,\n",
       " 0.3403421974850546,\n",
       " 0.344,\n",
       " 0.3927397080099961,\n",
       " 0.28450910869299423,\n",
       " 0.34175084175084175,\n",
       " 0.3096525096525097,\n",
       " 0.4013109077417759,\n",
       " 0.315986990242682,\n",
       " 0.4150921390249592,\n",
       " 0.34889771326851976,\n",
       " 0.32491559756921,\n",
       " 0.4040851482711948,\n",
       " 0.29639483836636954,\n",
       " 0.3253523261100167,\n",
       " 0.3525261078182331,\n",
       " 0.27681118083285794,\n",
       " 0.3179336972440421,\n",
       " 0.36782061369000785,\n",
       " 0.36175653140633685,\n",
       " 0.4040920716112532,\n",
       " 0.32733573237371716]"
      ]
     },
     "execution_count": 44,
     "metadata": {},
     "output_type": "execute_result"
    }
   ],
   "source": [
    "HRF = []\n",
    "for ii in range(len(total_runs)):\n",
    "    HRF.append((home_runs[ii][1])/(total_runs[ii][1]))\n",
    "HRF"
   ]
  },
  {
   "cell_type": "code",
   "execution_count": 45,
   "metadata": {},
   "outputs": [
    {
     "data": {
      "image/png": "[encoded data removed]",
      "text/plain": [
       "<matplotlib.figure.Figure at 0x18e29ecda58>"
      ]
     },
     "metadata": {},
     "output_type": "display_data"
    },
    {
     "data": {
      "text/plain": [
       "<matplotlib.figure.Figure at 0x18e29ecdbe0>"
      ]
     },
     "metadata": {},
     "output_type": "display_data"
    }
   ],
   "source": [
    "#graphing home run fraction vs altitude \n",
    "plt.title(\"Home Run Fraction with Altitude\", size=20)\n",
    "plt.xlabel(\"Altitude (in feet)\", size=16)\n",
    "plt.ylabel(\"Home Run Fraction (HR/total runs)\", size=16)\n",
    "y_pos = np.arange(len(HRF))\n",
    "plt.bar(y_pos, HRF, align='center', alpha=0.5, width=0.5)\n",
    "plt.xticks(y_pos, sorted(altitudes['altitude']), rotation='vertical')\n",
    "plt.figure(figsize=(50, 3))\n",
    "plt.show()"
   ]
  },
  {
   "cell_type": "code",
   "execution_count": 46,
   "metadata": {
    "collapsed": true
   },
   "outputs": [],
   "source": [
    "del team_ids[11]"
   ]
  },
  {
   "cell_type": "code",
   "execution_count": 47,
   "metadata": {},
   "outputs": [
    {
     "data": {
      "image/png": "[encoded data removed]",
      "text/plain": [
       "<matplotlib.figure.Figure at 0x18e2af04438>"
      ]
     },
     "metadata": {},
     "output_type": "display_data"
    }
   ],
   "source": [
    "x = altitudes['altitude']\n",
    "y = HRF\n",
    "line = league_avg\n",
    "#line = ax.plot(x,line)\n",
    "fig, ax = plt.subplots()\n",
    "plt.axhline(league_avg, color='r')\n",
    "plt.xlabel(\"Altitude of Park in Feet\", size = 16)\n",
    "plt.ylabel(\"HR Fraction\", size = 16)\n",
    "plt.title(\"HR fraction with League Average \", size=20)\n",
    "scatter = ax.scatter(x,y)\n",
    "plt.show()"
   ]
  },
  {
   "cell_type": "code",
   "execution_count": 48,
   "metadata": {},
   "outputs": [
    {
     "data": {
      "image/png": "[encoded data removed]",
      "text/plain": [
       "<matplotlib.figure.Figure at 0x18e1eaeb860>"
      ]
     },
     "metadata": {},
     "output_type": "display_data"
    }
   ],
   "source": [
    "x = altitudes['altitude']\n",
    "y = HRF\n",
    "line = league_avg\n",
    "#line = ax.plot(x,line)\n",
    "fig, ax = plt.subplots()\n",
    "plt.plot(np.unique(x), np.poly1d(np.polyfit(x, y, 1))(np.unique(x)), color='green')\n",
    "plt.xlabel(\"Altitude of Park in Feet\", size = 16)\n",
    "plt.ylabel(\"HR Fraction\", size = 16)\n",
    "plt.title(\"League HR fraction with Correlation\", size=20)\n",
    "\n",
    "scatter = ax.scatter(x,y)\n",
    "plt.show()"
   ]
  },
  {
   "cell_type": "code",
   "execution_count": 57,
   "metadata": {},
   "outputs": [
    {
     "data": {
      "text/html": [
       "<div>\n",
       "<style>\n",
       "    .dataframe thead tr:only-child th {\n",
       "        text-align: right;\n",
       "    }\n",
       "\n",
       "    .dataframe thead th {\n",
       "        text-align: left;\n",
       "    }\n",
       "\n",
       "    .dataframe tbody tr th {\n",
       "        vertical-align: top;\n",
       "    }\n",
       "</style>\n",
       "<table border=\"1\" class=\"dataframe\">\n",
       "  <thead>\n",
       "    <tr style=\"text-align: right;\">\n",
       "      <th></th>\n",
       "      <th>Home Run Fraction</th>\n",
       "      <th>Team</th>\n",
       "      <th>altitude</th>\n",
       "    </tr>\n",
       "  </thead>\n",
       "  <tbody>\n",
       "    <tr>\n",
       "      <th>0</th>\n",
       "      <td>0.335125</td>\n",
       "      <td>ANA</td>\n",
       "      <td>616</td>\n",
       "    </tr>\n",
       "    <tr>\n",
       "      <th>1</th>\n",
       "      <td>0.353767</td>\n",
       "      <td>ARI</td>\n",
       "      <td>160</td>\n",
       "    </tr>\n",
       "    <tr>\n",
       "      <th>2</th>\n",
       "      <td>0.332621</td>\n",
       "      <td>ATL</td>\n",
       "      <td>130</td>\n",
       "    </tr>\n",
       "    <tr>\n",
       "      <th>3</th>\n",
       "      <td>0.418717</td>\n",
       "      <td>BAL</td>\n",
       "      <td>594</td>\n",
       "    </tr>\n",
       "    <tr>\n",
       "      <th>4</th>\n",
       "      <td>0.324051</td>\n",
       "      <td>BOS</td>\n",
       "      <td>20</td>\n",
       "    </tr>\n",
       "    <tr>\n",
       "      <th>5</th>\n",
       "      <td>0.418533</td>\n",
       "      <td>CHA</td>\n",
       "      <td>582</td>\n",
       "    </tr>\n",
       "    <tr>\n",
       "      <th>6</th>\n",
       "      <td>0.374416</td>\n",
       "      <td>CHN</td>\n",
       "      <td>750</td>\n",
       "    </tr>\n",
       "    <tr>\n",
       "      <th>7</th>\n",
       "      <td>0.429725</td>\n",
       "      <td>CIN</td>\n",
       "      <td>42</td>\n",
       "    </tr>\n",
       "    <tr>\n",
       "      <th>8</th>\n",
       "      <td>0.346416</td>\n",
       "      <td>CLE</td>\n",
       "      <td>812</td>\n",
       "    </tr>\n",
       "    <tr>\n",
       "      <th>9</th>\n",
       "      <td>0.340342</td>\n",
       "      <td>COL</td>\n",
       "      <td>247</td>\n",
       "    </tr>\n",
       "    <tr>\n",
       "      <th>10</th>\n",
       "      <td>0.344000</td>\n",
       "      <td>DET</td>\n",
       "      <td>10</td>\n",
       "    </tr>\n",
       "    <tr>\n",
       "      <th>11</th>\n",
       "      <td>0.392740</td>\n",
       "      <td>HOU</td>\n",
       "      <td>44</td>\n",
       "    </tr>\n",
       "    <tr>\n",
       "      <th>12</th>\n",
       "      <td>0.284509</td>\n",
       "      <td>KCA</td>\n",
       "      <td>587</td>\n",
       "    </tr>\n",
       "    <tr>\n",
       "      <th>13</th>\n",
       "      <td>0.341751</td>\n",
       "      <td>LAN</td>\n",
       "      <td>54</td>\n",
       "    </tr>\n",
       "    <tr>\n",
       "      <th>14</th>\n",
       "      <td>0.309653</td>\n",
       "      <td>MIA</td>\n",
       "      <td>63</td>\n",
       "    </tr>\n",
       "    <tr>\n",
       "      <th>15</th>\n",
       "      <td>0.401311</td>\n",
       "      <td>MIL</td>\n",
       "      <td>455</td>\n",
       "    </tr>\n",
       "    <tr>\n",
       "      <th>16</th>\n",
       "      <td>0.315987</td>\n",
       "      <td>MIN</td>\n",
       "      <td>1082</td>\n",
       "    </tr>\n",
       "    <tr>\n",
       "      <th>17</th>\n",
       "      <td>0.415092</td>\n",
       "      <td>NYA</td>\n",
       "      <td>9</td>\n",
       "    </tr>\n",
       "    <tr>\n",
       "      <th>18</th>\n",
       "      <td>0.348898</td>\n",
       "      <td>NYN</td>\n",
       "      <td>5183</td>\n",
       "    </tr>\n",
       "    <tr>\n",
       "      <th>19</th>\n",
       "      <td>0.324916</td>\n",
       "      <td>OAK</td>\n",
       "      <td>267</td>\n",
       "    </tr>\n",
       "    <tr>\n",
       "      <th>20</th>\n",
       "      <td>0.404085</td>\n",
       "      <td>PHI</td>\n",
       "      <td>15</td>\n",
       "    </tr>\n",
       "    <tr>\n",
       "      <th>22</th>\n",
       "      <td>0.296395</td>\n",
       "      <td>PIT</td>\n",
       "      <td>683</td>\n",
       "    </tr>\n",
       "    <tr>\n",
       "      <th>23</th>\n",
       "      <td>0.325352</td>\n",
       "      <td>SDN</td>\n",
       "      <td>593</td>\n",
       "    </tr>\n",
       "    <tr>\n",
       "      <th>24</th>\n",
       "      <td>0.352526</td>\n",
       "      <td>SEA</td>\n",
       "      <td>38</td>\n",
       "    </tr>\n",
       "    <tr>\n",
       "      <th>25</th>\n",
       "      <td>0.276811</td>\n",
       "      <td>SFN</td>\n",
       "      <td>13</td>\n",
       "    </tr>\n",
       "    <tr>\n",
       "      <th>26</th>\n",
       "      <td>0.317934</td>\n",
       "      <td>SLN</td>\n",
       "      <td>743</td>\n",
       "    </tr>\n",
       "    <tr>\n",
       "      <th>27</th>\n",
       "      <td>0.367821</td>\n",
       "      <td>TBA</td>\n",
       "      <td>25</td>\n",
       "    </tr>\n",
       "    <tr>\n",
       "      <th>28</th>\n",
       "      <td>0.361757</td>\n",
       "      <td>TEX</td>\n",
       "      <td>53</td>\n",
       "    </tr>\n",
       "    <tr>\n",
       "      <th>29</th>\n",
       "      <td>0.404092</td>\n",
       "      <td>TOR</td>\n",
       "      <td>1050</td>\n",
       "    </tr>\n",
       "    <tr>\n",
       "      <th>30</th>\n",
       "      <td>0.327336</td>\n",
       "      <td>WAS</td>\n",
       "      <td>604</td>\n",
       "    </tr>\n",
       "  </tbody>\n",
       "</table>\n",
       "</div>"
      ],
      "text/plain": [
       "    Home Run Fraction Team  altitude\n",
       "0            0.335125  ANA       616\n",
       "1            0.353767  ARI       160\n",
       "2            0.332621  ATL       130\n",
       "3            0.418717  BAL       594\n",
       "4            0.324051  BOS        20\n",
       "5            0.418533  CHA       582\n",
       "6            0.374416  CHN       750\n",
       "7            0.429725  CIN        42\n",
       "8            0.346416  CLE       812\n",
       "9            0.340342  COL       247\n",
       "10           0.344000  DET        10\n",
       "11           0.392740  HOU        44\n",
       "12           0.284509  KCA       587\n",
       "13           0.341751  LAN        54\n",
       "14           0.309653  MIA        63\n",
       "15           0.401311  MIL       455\n",
       "16           0.315987  MIN      1082\n",
       "17           0.415092  NYA         9\n",
       "18           0.348898  NYN      5183\n",
       "19           0.324916  OAK       267\n",
       "20           0.404085  PHI        15\n",
       "22           0.296395  PIT       683\n",
       "23           0.325352  SDN       593\n",
       "24           0.352526  SEA        38\n",
       "25           0.276811  SFN        13\n",
       "26           0.317934  SLN       743\n",
       "27           0.367821  TBA        25\n",
       "28           0.361757  TEX        53\n",
       "29           0.404092  TOR      1050\n",
       "30           0.327336  WAS       604"
      ]
     },
     "execution_count": 57,
     "metadata": {},
     "output_type": "execute_result"
    }
   ],
   "source": [
    "d = {'Team': team_ids,'Home Run Fraction': HRF, 'altitude': altitudes['altitude']} \n",
    "dfCor = pd.DataFrame(data=d)\n",
    "dfCor\n"
   ]
  },
  {
   "cell_type": "code",
   "execution_count": 50,
   "metadata": {},
   "outputs": [
    {
     "data": {
      "text/plain": [
       "-0.047993631762155577"
      ]
     },
     "execution_count": 50,
     "metadata": {},
     "output_type": "execute_result"
    }
   ],
   "source": [
    "dfCor['altitudes'].corr(dfCor['Home Run Fraction'])"
   ]
  },
  {
   "cell_type": "code",
   "execution_count": 66,
   "metadata": {},
   "outputs": [
    {
     "data": {
      "text/plain": [
       "29"
      ]
     },
     "execution_count": 66,
     "metadata": {},
     "output_type": "execute_result"
    }
   ],
   "source": [
    "altitudes = altitudes['altitude'].drop([18])\n",
    "len(altitudes)"
   ]
  },
  {
   "cell_type": "code",
   "execution_count": 64,
   "metadata": {},
   "outputs": [],
   "source": [
    "del HRF[10]"
   ]
  },
  {
   "cell_type": "code",
   "execution_count": 65,
   "metadata": {},
   "outputs": [
    {
     "data": {
      "text/plain": [
       "29"
      ]
     },
     "execution_count": 65,
     "metadata": {},
     "output_type": "execute_result"
    }
   ],
   "source": [
    "len(HRF)"
   ]
  },
  {
   "cell_type": "code",
   "execution_count": 70,
   "metadata": {},
   "outputs": [
    {
     "data": {
      "image/png": "[encoded data removed]",
      "text/plain": [
       "<matplotlib.figure.Figure at 0x18e7403d3c8>"
      ]
     },
     "metadata": {},
     "output_type": "display_data"
    }
   ],
   "source": [
    "x = altitudes\n",
    "y = HRF\n",
    "line = league_avg\n",
    "#line = ax.plot(x,line)\n",
    "fig, ax = plt.subplots()\n",
    "plt.plot(np.unique(x), np.poly1d(np.polyfit(x, y, 1))(np.unique(x)), color='green')\n",
    "plt.xlabel(\"Altitude of Park in Feet\", size = 16)\n",
    "plt.ylabel(\"HR Fraction\", size = 16)\n",
    "plt.title(\"League HR fraction with Correlation\", size=20)\n",
    "\n",
    "scatter = ax.scatter(x,y)\n",
    "plt.show()"
   ]
  },
  {
   "cell_type": "code",
   "execution_count": 69,
   "metadata": {},
   "outputs": [
    {
     "data": {
      "text/plain": [
       "0      616\n",
       "1      160\n",
       "2      130\n",
       "3      594\n",
       "4       20\n",
       "5      582\n",
       "6      750\n",
       "7       42\n",
       "8      812\n",
       "9      247\n",
       "10      10\n",
       "11      44\n",
       "12     587\n",
       "13      54\n",
       "14      63\n",
       "15     455\n",
       "16    1082\n",
       "17       9\n",
       "19     267\n",
       "20      15\n",
       "22     683\n",
       "23     593\n",
       "24      38\n",
       "25      13\n",
       "26     743\n",
       "27      25\n",
       "28      53\n",
       "29    1050\n",
       "30     604\n",
       "Name: altitude, dtype: int64"
      ]
     },
     "execution_count": 69,
     "metadata": {},
     "output_type": "execute_result"
    }
   ],
   "source": [
    "altitudes"
   ]
  },
  {
   "cell_type": "code",
   "execution_count": null,
   "metadata": {
    "collapsed": true
   },
   "outputs": [],
   "source": []
  }
 ],
 "metadata": {
  "kernelspec": {
   "display_name": "Python 3",
   "language": "python",
   "name": "python3"
  },
  "language_info": {
   "codemirror_mode": {
    "name": "ipython",
    "version": 3
   },
   "file_extension": ".py",
   "mimetype": "text/x-python",
   "name": "python",
   "nbconvert_exporter": "python",
   "pygments_lexer": "ipython3",
   "version": "3.6.1"
  }
 },
 "nbformat": 4,
 "nbformat_minor": 2
}
