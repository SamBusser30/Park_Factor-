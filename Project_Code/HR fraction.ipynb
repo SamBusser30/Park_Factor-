{
 "cells": [
  {
   "cell_type": "code",
   "execution_count": 2,
   "metadata": {
    "collapsed": true
   },
   "outputs": [],
   "source": [
    "import pandas as pd\n",
    "import matplotlib.pyplot as plt\n",
    "import numpy as np"
   ]
  },
  {
   "cell_type": "code",
   "execution_count": 3,
   "metadata": {
    "collapsed": true
   },
   "outputs": [],
   "source": [
    "dfRetro = pd.read_csv('C:\\\\Users\\\\Sam\\\\Documents\\\\Data Mining\\\\Project\\\\retrosheet-events-plus-woba-2005_2015.csv')\n",
    "altitudes = pd.read_excel(\"C:\\\\Users\\\\Sam\\\\Documents\\\\Data Mining\\\\Project\\\\Park_Factor\\\\Project_Code\\\\MLB_Stadium_Altitudes.xlsx\")\n",
    "altitudes=altitudes.drop(21)"
   ]
  },
  {
   "cell_type": "code",
   "execution_count": 4,
   "metadata": {
    "collapsed": true
   },
   "outputs": [],
   "source": [
    "dfRetro = dfRetro.drop(['time_since_1900', 'wOBA_pts', 'bat_hand_cd', 'base1_run_id', 'base2_run_id', 'base3_run_id','pitch_seq_tx','po1_fld_cd', 'po2_fld_cd','pit_start_fl', 'pa_ball_ct', 'pa_strike_ct', 'bat_fate_id', 'run1_fate_id', 'run2_fate_id', 'run3_fate_id', 'battedball_cd', 'inn_new_fl', 'inn_end_fl', 'pit_hand_cd'], axis=1)\n"
   ]
  },
  {
   "cell_type": "code",
   "execution_count": 5,
   "metadata": {
    "collapsed": true
   },
   "outputs": [],
   "source": [
    "#now drop any unnecessary events we don't need \n",
    "#stolen bases (4), caught stealing (6), pickoff (8), \n",
    "\n",
    "dfRetro = dfRetro[dfRetro.event_cd != 4]\n",
    "dfRetro = dfRetro[dfRetro.event_cd != 6]\n",
    "dfRetro = dfRetro[dfRetro.event_cd != 8]\n"
   ]
  },
  {
   "cell_type": "code",
   "execution_count": 6,
   "metadata": {
    "collapsed": true
   },
   "outputs": [],
   "source": [
    "events_with_altitudes = pd.merge(dfRetro, altitudes, on='home_team_id')\n"
   ]
  },
  {
   "cell_type": "code",
   "execution_count": 7,
   "metadata": {
    "collapsed": true
   },
   "outputs": [],
   "source": [
    "#creating sorted array of team ids\n",
    "team_ids = []\n",
    "for ii in dfRetro.home_team_id.unique():\n",
    "    team_ids.append(ii)\n",
    "team_ids = sorted(team_ids)\n",
    "#initializing 2d array for total runs \n",
    "total_runs = [[0 for i in range(2)] for j in range(31)] \n",
    "for i in range(0,31):\n",
    "     total_runs[i][0] = team_ids[i]\n",
    "index = 0\n",
    "#getting total runs for each team\n",
    "for ii in team_ids:\n",
    "    dfTemp = dfRetro.loc[dfRetro['home_team_id'] == ii]\n",
    "    total_runs[index][1] = dfTemp['event_runs_ct'].sum()\n",
    "    index +=1\n",
    "    \n",
    "#combine Miami and Florida \n",
    "total_runs[15][1] += total_runs[11][1]\n",
    "del total_runs[11]"
   ]
  },
  {
   "cell_type": "code",
   "execution_count": 8,
   "metadata": {
    "collapsed": true
   },
   "outputs": [],
   "source": [
    "#need to get total home runs per team\n",
    "home_runs = [[0 for i in range(2)] for j in range(31)] \n",
    "for i in range(0,31):\n",
    "     home_runs[i][0] = team_ids[i]\n",
    "index = 0\n",
    "#getting total runs for each team\n",
    "for ii in team_ids:\n",
    "    dfTemp = dfRetro.loc[dfRetro['home_team_id'] == ii]\n",
    "    dfTemp2 = dfTemp.loc[dfTemp['event_cd'] == 23]\n",
    "    home_runs[index][1] = dfTemp2['game_id'].count()\n",
    "    index +=1\n",
    "    \n",
    "#combine Miami and Florida \n",
    "home_runs[15][1] += home_runs[11][1]\n",
    "del home_runs[11]"
   ]
  },
  {
   "cell_type": "code",
   "execution_count": 24,
   "metadata": {},
   "outputs": [],
   "source": [
    "##calculating league average for home run fraction \n",
    "league_runs = 0\n",
    "league_home_runs = 0\n",
    "for ii in range(len(total_runs)):\n",
    "    league_runs +=total_runs[ii][1] \n",
    "for ii in range(len(home_runs)):\n",
    "    league_home_runs += home_runs[ii][1]\n",
    "league_avg = league_home_runs/league_runs"
   ]
  },
  {
   "cell_type": "code",
   "execution_count": 10,
   "metadata": {},
   "outputs": [
    {
     "data": {
      "text/plain": [
       "[0.21507208387942334,\n",
       " 0.22568741816450422,\n",
       " 0.21279722148009617,\n",
       " 0.26159488878371984,\n",
       " 0.19840556927913766,\n",
       " 0.26294528094013953,\n",
       " 0.23513069832049502,\n",
       " 0.27437308868501531,\n",
       " 0.21403331650681473,\n",
       " 0.20975056689342403,\n",
       " 0.21623880597014924,\n",
       " 0.24976982769959227,\n",
       " 0.17752781513632473,\n",
       " 0.21689113355780024,\n",
       " 0.19073359073359072,\n",
       " 0.25748206777145682,\n",
       " 0.20052539404553416,\n",
       " 0.25915558665733612,\n",
       " 0.2199096261810215,\n",
       " 0.2049966239027684,\n",
       " 0.25163036790943766,\n",
       " 0.1909006252494346,\n",
       " 0.21427489013486892,\n",
       " 0.22480948348856902,\n",
       " 0.17969195664575013,\n",
       " 0.19864199174544003,\n",
       " 0.23590348806713873,\n",
       " 0.23001667593107281,\n",
       " 0.25867738399707707,\n",
       " 0.2107157137145142]"
      ]
     },
     "execution_count": 10,
     "metadata": {},
     "output_type": "execute_result"
    }
   ],
   "source": [
    "HRF = []\n",
    "for ii in range(len(total_runs)):\n",
    "    HRF.append((home_runs[ii][1])/(total_runs[ii][1]))\n",
    "HRF"
   ]
  },
  {
   "cell_type": "code",
   "execution_count": 11,
   "metadata": {},
   "outputs": [
    {
     "data": {
      "image/png": "[encoded data removed]",
      "text/plain": [
       "<matplotlib.figure.Figure at 0x18e24098240>"
      ]
     },
     "metadata": {},
     "output_type": "display_data"
    },
    {
     "data": {
      "text/plain": [
       "<matplotlib.figure.Figure at 0x18e71d89a58>"
      ]
     },
     "metadata": {},
     "output_type": "display_data"
    }
   ],
   "source": [
    "#graphing home run fraction vs altitude \n",
    "plt.title(\"Home Run Fraction with Altitude\", size=20)\n",
    "plt.xlabel(\"Altitude (in feet)\", size=16)\n",
    "plt.ylabel(\"Home Run Fraction (HR/total runs)\", size=16)\n",
    "y_pos = np.arange(len(HRF))\n",
    "plt.bar(y_pos, HRF, align='center', alpha=0.5, width=0.5)\n",
    "plt.xticks(y_pos, sorted(altitudes['altitude']), rotation='vertical')\n",
    "plt.figure(figsize=(50, 3))\n",
    "plt.show()"
   ]
  },
  {
   "cell_type": "code",
   "execution_count": 12,
   "metadata": {
    "collapsed": true
   },
   "outputs": [],
   "source": [
    "del team_ids[11]"
   ]
  },
  {
   "cell_type": "code",
   "execution_count": 25,
   "metadata": {},
   "outputs": [
    {
     "data": {
      "image/png": "[encoded data removed]",
      "text/plain": [
       "<matplotlib.figure.Figure at 0x18e13f70748>"
      ]
     },
     "metadata": {},
     "output_type": "display_data"
    }
   ],
   "source": [
    "x = altitudes['altitude']\n",
    "y = HRF\n",
    "line = league_avg\n",
    "#line = ax.plot(x,line)\n",
    "fig, ax = plt.subplots()\n",
    "plt.axhline(league_avg, color='r')\n",
    "\n",
    "scatter = ax.scatter(x,y)\n",
    "plt.show()"
   ]
  },
  {
   "cell_type": "code",
   "execution_count": 26,
   "metadata": {},
   "outputs": [
    {
     "data": {
      "text/html": [
       "<div>\n",
       "<style>\n",
       "    .dataframe thead tr:only-child th {\n",
       "        text-align: right;\n",
       "    }\n",
       "\n",
       "    .dataframe thead th {\n",
       "        text-align: left;\n",
       "    }\n",
       "\n",
       "    .dataframe tbody tr th {\n",
       "        vertical-align: top;\n",
       "    }\n",
       "</style>\n",
       "<table border=\"1\" class=\"dataframe\">\n",
       "  <thead>\n",
       "    <tr style=\"text-align: right;\">\n",
       "      <th></th>\n",
       "      <th>Home Run Fraction</th>\n",
       "      <th>Team</th>\n",
       "      <th>altitudes</th>\n",
       "    </tr>\n",
       "  </thead>\n",
       "  <tbody>\n",
       "    <tr>\n",
       "      <th>0</th>\n",
       "      <td>0.215072</td>\n",
       "      <td>ANA</td>\n",
       "      <td>616</td>\n",
       "    </tr>\n",
       "    <tr>\n",
       "      <th>1</th>\n",
       "      <td>0.225687</td>\n",
       "      <td>ARI</td>\n",
       "      <td>160</td>\n",
       "    </tr>\n",
       "    <tr>\n",
       "      <th>2</th>\n",
       "      <td>0.212797</td>\n",
       "      <td>ATL</td>\n",
       "      <td>130</td>\n",
       "    </tr>\n",
       "    <tr>\n",
       "      <th>3</th>\n",
       "      <td>0.261595</td>\n",
       "      <td>BAL</td>\n",
       "      <td>594</td>\n",
       "    </tr>\n",
       "    <tr>\n",
       "      <th>4</th>\n",
       "      <td>0.198406</td>\n",
       "      <td>BOS</td>\n",
       "      <td>20</td>\n",
       "    </tr>\n",
       "    <tr>\n",
       "      <th>5</th>\n",
       "      <td>0.262945</td>\n",
       "      <td>CHA</td>\n",
       "      <td>582</td>\n",
       "    </tr>\n",
       "    <tr>\n",
       "      <th>6</th>\n",
       "      <td>0.235131</td>\n",
       "      <td>CHN</td>\n",
       "      <td>750</td>\n",
       "    </tr>\n",
       "    <tr>\n",
       "      <th>7</th>\n",
       "      <td>0.274373</td>\n",
       "      <td>CIN</td>\n",
       "      <td>42</td>\n",
       "    </tr>\n",
       "    <tr>\n",
       "      <th>8</th>\n",
       "      <td>0.214033</td>\n",
       "      <td>CLE</td>\n",
       "      <td>812</td>\n",
       "    </tr>\n",
       "    <tr>\n",
       "      <th>9</th>\n",
       "      <td>0.209751</td>\n",
       "      <td>COL</td>\n",
       "      <td>247</td>\n",
       "    </tr>\n",
       "    <tr>\n",
       "      <th>10</th>\n",
       "      <td>0.216239</td>\n",
       "      <td>DET</td>\n",
       "      <td>10</td>\n",
       "    </tr>\n",
       "    <tr>\n",
       "      <th>11</th>\n",
       "      <td>0.249770</td>\n",
       "      <td>HOU</td>\n",
       "      <td>44</td>\n",
       "    </tr>\n",
       "    <tr>\n",
       "      <th>12</th>\n",
       "      <td>0.177528</td>\n",
       "      <td>KCA</td>\n",
       "      <td>587</td>\n",
       "    </tr>\n",
       "    <tr>\n",
       "      <th>13</th>\n",
       "      <td>0.216891</td>\n",
       "      <td>LAN</td>\n",
       "      <td>54</td>\n",
       "    </tr>\n",
       "    <tr>\n",
       "      <th>14</th>\n",
       "      <td>0.190734</td>\n",
       "      <td>MIA</td>\n",
       "      <td>63</td>\n",
       "    </tr>\n",
       "    <tr>\n",
       "      <th>15</th>\n",
       "      <td>0.257482</td>\n",
       "      <td>MIL</td>\n",
       "      <td>455</td>\n",
       "    </tr>\n",
       "    <tr>\n",
       "      <th>16</th>\n",
       "      <td>0.200525</td>\n",
       "      <td>MIN</td>\n",
       "      <td>1082</td>\n",
       "    </tr>\n",
       "    <tr>\n",
       "      <th>17</th>\n",
       "      <td>0.259156</td>\n",
       "      <td>NYA</td>\n",
       "      <td>9</td>\n",
       "    </tr>\n",
       "    <tr>\n",
       "      <th>18</th>\n",
       "      <td>0.219910</td>\n",
       "      <td>NYN</td>\n",
       "      <td>5183</td>\n",
       "    </tr>\n",
       "    <tr>\n",
       "      <th>19</th>\n",
       "      <td>0.204997</td>\n",
       "      <td>OAK</td>\n",
       "      <td>267</td>\n",
       "    </tr>\n",
       "    <tr>\n",
       "      <th>20</th>\n",
       "      <td>0.251630</td>\n",
       "      <td>PHI</td>\n",
       "      <td>15</td>\n",
       "    </tr>\n",
       "    <tr>\n",
       "      <th>22</th>\n",
       "      <td>0.190901</td>\n",
       "      <td>PIT</td>\n",
       "      <td>683</td>\n",
       "    </tr>\n",
       "    <tr>\n",
       "      <th>23</th>\n",
       "      <td>0.214275</td>\n",
       "      <td>SDN</td>\n",
       "      <td>593</td>\n",
       "    </tr>\n",
       "    <tr>\n",
       "      <th>24</th>\n",
       "      <td>0.224809</td>\n",
       "      <td>SEA</td>\n",
       "      <td>38</td>\n",
       "    </tr>\n",
       "    <tr>\n",
       "      <th>25</th>\n",
       "      <td>0.179692</td>\n",
       "      <td>SFN</td>\n",
       "      <td>13</td>\n",
       "    </tr>\n",
       "    <tr>\n",
       "      <th>26</th>\n",
       "      <td>0.198642</td>\n",
       "      <td>SLN</td>\n",
       "      <td>743</td>\n",
       "    </tr>\n",
       "    <tr>\n",
       "      <th>27</th>\n",
       "      <td>0.235903</td>\n",
       "      <td>TBA</td>\n",
       "      <td>25</td>\n",
       "    </tr>\n",
       "    <tr>\n",
       "      <th>28</th>\n",
       "      <td>0.230017</td>\n",
       "      <td>TEX</td>\n",
       "      <td>53</td>\n",
       "    </tr>\n",
       "    <tr>\n",
       "      <th>29</th>\n",
       "      <td>0.258677</td>\n",
       "      <td>TOR</td>\n",
       "      <td>1050</td>\n",
       "    </tr>\n",
       "    <tr>\n",
       "      <th>30</th>\n",
       "      <td>0.210716</td>\n",
       "      <td>WAS</td>\n",
       "      <td>604</td>\n",
       "    </tr>\n",
       "  </tbody>\n",
       "</table>\n",
       "</div>"
      ],
      "text/plain": [
       "    Home Run Fraction Team  altitudes\n",
       "0            0.215072  ANA        616\n",
       "1            0.225687  ARI        160\n",
       "2            0.212797  ATL        130\n",
       "3            0.261595  BAL        594\n",
       "4            0.198406  BOS         20\n",
       "5            0.262945  CHA        582\n",
       "6            0.235131  CHN        750\n",
       "7            0.274373  CIN         42\n",
       "8            0.214033  CLE        812\n",
       "9            0.209751  COL        247\n",
       "10           0.216239  DET         10\n",
       "11           0.249770  HOU         44\n",
       "12           0.177528  KCA        587\n",
       "13           0.216891  LAN         54\n",
       "14           0.190734  MIA         63\n",
       "15           0.257482  MIL        455\n",
       "16           0.200525  MIN       1082\n",
       "17           0.259156  NYA          9\n",
       "18           0.219910  NYN       5183\n",
       "19           0.204997  OAK        267\n",
       "20           0.251630  PHI         15\n",
       "22           0.190901  PIT        683\n",
       "23           0.214275  SDN        593\n",
       "24           0.224809  SEA         38\n",
       "25           0.179692  SFN         13\n",
       "26           0.198642  SLN        743\n",
       "27           0.235903  TBA         25\n",
       "28           0.230017  TEX         53\n",
       "29           0.258677  TOR       1050\n",
       "30           0.210716  WAS        604"
      ]
     },
     "execution_count": 26,
     "metadata": {},
     "output_type": "execute_result"
    }
   ],
   "source": [
    "d = {'Team': team_ids,'Home Run Fraction': HRF, 'altitudes': altitudes['altitude']} \n",
    "dfCor = pd.DataFrame(data=d)\n",
    "dfCor\n"
   ]
  },
  {
   "cell_type": "code",
   "execution_count": 27,
   "metadata": {},
   "outputs": [
    {
     "data": {
      "text/plain": [
       "-0.048815551038958183"
      ]
     },
     "execution_count": 27,
     "metadata": {},
     "output_type": "execute_result"
    }
   ],
   "source": [
    "dfCor['altitudes'].corr(dfCor['Home Run Fraction'])"
   ]
  },
  {
   "cell_type": "code",
   "execution_count": null,
   "metadata": {
    "collapsed": true
   },
   "outputs": [],
   "source": []
  },
  {
   "cell_type": "code",
   "execution_count": null,
   "metadata": {
    "collapsed": true
   },
   "outputs": [],
   "source": []
  }
 ],
 "metadata": {
  "kernelspec": {
   "display_name": "Python 3",
   "language": "python",
   "name": "python3"
  },
  "language_info": {
   "codemirror_mode": {
    "name": "ipython",
    "version": 3
   },
   "file_extension": ".py",
   "mimetype": "text/x-python",
   "name": "python",
   "nbconvert_exporter": "python",
   "pygments_lexer": "ipython3",
   "version": "3.6.1"
  }
 },
 "nbformat": 4,
 "nbformat_minor": 2
}
