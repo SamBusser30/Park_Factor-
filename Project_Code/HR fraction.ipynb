{
 "cells": [
  {
   "cell_type": "code",
   "execution_count": 2,
   "metadata": {
    "collapsed": true
   },
   "outputs": [],
   "source": [
    "import pandas as pd\n",
    "import matplotlib.pyplot as plt\n",
    "import numpy as np"
   ]
  },
  {
   "cell_type": "code",
   "execution_count": 3,
   "metadata": {
    "collapsed": true
   },
   "outputs": [],
   "source": [
    "dfRetro = pd.read_csv('C:\\\\Users\\\\Sam\\\\Documents\\\\Data Mining\\\\Project\\\\retrosheet-events-plus-woba-2005_2015.csv')\n",
    "altitudes = pd.read_excel(\"C:\\\\Users\\\\Sam\\\\Documents\\\\Data Mining\\\\Project\\\\Park_Factor\\\\Project_Code\\\\MLB_Stadium_Altitudes.xlsx\")\n",
    "altitudes=altitudes.drop(21)"
   ]
  },
  {
   "cell_type": "code",
   "execution_count": 4,
   "metadata": {
    "collapsed": true
   },
   "outputs": [],
   "source": [
    "dfRetro = dfRetro.drop(['time_since_1900', 'wOBA_pts', 'bat_hand_cd', 'base1_run_id', 'base2_run_id', 'base3_run_id','pitch_seq_tx','po1_fld_cd', 'po2_fld_cd','pit_start_fl', 'pa_ball_ct', 'pa_strike_ct', 'bat_fate_id', 'run1_fate_id', 'run2_fate_id', 'run3_fate_id', 'battedball_cd', 'inn_new_fl', 'inn_end_fl', 'pit_hand_cd'], axis=1)\n"
   ]
  },
  {
   "cell_type": "code",
   "execution_count": 5,
   "metadata": {
    "collapsed": true
   },
   "outputs": [],
   "source": [
    "#now drop any unnecessary events we don't need \n",
    "#stolen bases (4), caught stealing (6), pickoff (8), \n",
    "\n",
    "dfRetro = dfRetro[dfRetro.event_cd != 4]\n",
    "dfRetro = dfRetro[dfRetro.event_cd != 6]\n",
    "dfRetro = dfRetro[dfRetro.event_cd != 8]\n"
   ]
  },
  {
   "cell_type": "code",
   "execution_count": 6,
   "metadata": {
    "collapsed": true
   },
   "outputs": [],
   "source": [
    "events_with_altitudes = pd.merge(dfRetro, altitudes, on='home_team_id')\n"
   ]
  },
  {
   "cell_type": "code",
   "execution_count": 7,
   "metadata": {
    "collapsed": true
   },
   "outputs": [],
   "source": [
    "#creating sorted array of team ids\n",
    "team_ids = []\n",
    "for ii in dfRetro.home_team_id.unique():\n",
    "    team_ids.append(ii)\n",
    "team_ids = sorted(team_ids)\n",
    "#initializing 2d array for total runs \n",
    "total_runs = [[0 for i in range(2)] for j in range(31)] \n",
    "for i in range(0,31):\n",
    "     total_runs[i][0] = team_ids[i]\n",
    "index = 0\n",
    "#getting total runs for each team\n",
    "for ii in team_ids:\n",
    "    dfTemp = dfRetro.loc[dfRetro['home_team_id'] == ii]\n",
    "    total_runs[index][1] = dfTemp['event_runs_ct'].sum()\n",
    "    index +=1\n",
    "    \n",
    "#combine Miami and Florida \n",
    "total_runs[15][1] += total_runs[11][1]\n",
    "del total_runs[11]"
   ]
  },
  {
   "cell_type": "code",
   "execution_count": 8,
   "metadata": {
    "collapsed": true
   },
   "outputs": [],
   "source": [
    "#need to get total home runs per team\n",
    "home_runs = [[0 for i in range(2)] for j in range(31)] \n",
    "for i in range(0,31):\n",
    "     home_runs[i][0] = team_ids[i]\n",
    "index = 0\n",
    "#getting total runs for each team\n",
    "for ii in team_ids:\n",
    "    dfTemp = dfRetro.loc[dfRetro['home_team_id'] == ii]\n",
    "    dfTemp2 = dfTemp.loc[dfTemp['event_cd'] == 23]\n",
    "    home_runs[index][1] = dfTemp2['game_id'].count()\n",
    "    index +=1\n",
    "    \n",
    "#combine Miami and Florida \n",
    "home_runs[15][1] += home_runs[11][1]\n",
    "del home_runs[11]"
   ]
  },
  {
   "cell_type": "code",
   "execution_count": 9,
   "metadata": {},
   "outputs": [
    {
     "name": "stdout",
     "output_type": "stream",
     "text": [
      "[['ANA', 7630], ['ARI', 8401], ['ATL', 7486], ['BAL', 8452], ['BOS', 8906], ['CHA', 8169], ['CHN', 7919], ['CIN', 8175], ['CLE', 7924], ['COL', 9702], ['DET', 8375], ['HOU', 7603], ['KCA', 8179], ['LAN', 7128], ['MIA', 7770], ['MIL', 8086], ['MIN', 7994], ['NYA', 8574], ['NYN', 7303], ['OAK', 7405], ['PHI', 8127], ['PIT', 7517], ['SDN', 6599], ['SEA', 7086], ['SFN', 7012], ['SLN', 7511], ['TBA', 7626], ['TEX', 8995], ['TOR', 8211], ['WAS', 7503]]\n"
     ]
    }
   ],
   "source": [
    "##calculating league average for home run fraction \n",
    "print(total_runs)"
   ]
  },
  {
   "cell_type": "code",
   "execution_count": 10,
   "metadata": {},
   "outputs": [
    {
     "data": {
      "text/plain": [
       "[0.21507208387942334,\n",
       " 0.22568741816450422,\n",
       " 0.21279722148009617,\n",
       " 0.26159488878371984,\n",
       " 0.19840556927913766,\n",
       " 0.26294528094013953,\n",
       " 0.23513069832049502,\n",
       " 0.27437308868501531,\n",
       " 0.21403331650681473,\n",
       " 0.20975056689342403,\n",
       " 0.21623880597014924,\n",
       " 0.24976982769959227,\n",
       " 0.17752781513632473,\n",
       " 0.21689113355780024,\n",
       " 0.19073359073359072,\n",
       " 0.25748206777145682,\n",
       " 0.20052539404553416,\n",
       " 0.25915558665733612,\n",
       " 0.2199096261810215,\n",
       " 0.2049966239027684,\n",
       " 0.25163036790943766,\n",
       " 0.1909006252494346,\n",
       " 0.21427489013486892,\n",
       " 0.22480948348856902,\n",
       " 0.17969195664575013,\n",
       " 0.19864199174544003,\n",
       " 0.23590348806713873,\n",
       " 0.23001667593107281,\n",
       " 0.25867738399707707,\n",
       " 0.2107157137145142]"
      ]
     },
     "execution_count": 10,
     "metadata": {},
     "output_type": "execute_result"
    }
   ],
   "source": [
    "HRF = []\n",
    "for ii in range(len(total_runs)):\n",
    "    HRF.append((home_runs[ii][1])/(total_runs[ii][1]))\n",
    "HRF"
   ]
  },
  {
   "cell_type": "code",
   "execution_count": 11,
   "metadata": {},
   "outputs": [
    {
     "data": {
      "image/png": "[encoded data removed]",
      "text/plain": [
       "<matplotlib.figure.Figure at 0x18e24098240>"
      ]
     },
     "metadata": {},
     "output_type": "display_data"
    },
    {
     "data": {
      "text/plain": [
       "<matplotlib.figure.Figure at 0x18e71d89a58>"
      ]
     },
     "metadata": {},
     "output_type": "display_data"
    }
   ],
   "source": [
    "#graphing home run fraction vs altitude \n",
    "plt.title(\"Home Run Fraction with Altitude\", size=20)\n",
    "plt.xlabel(\"Altitude (in feet)\", size=16)\n",
    "plt.ylabel(\"Home Run Fraction (HR/total runs)\", size=16)\n",
    "y_pos = np.arange(len(HRF))\n",
    "plt.bar(y_pos, HRF, align='center', alpha=0.5, width=0.5)\n",
    "plt.xticks(y_pos, sorted(altitudes['altitude']), rotation='vertical')\n",
    "plt.figure(figsize=(50, 3))\n",
    "plt.show()"
   ]
  },
  {
   "cell_type": "code",
   "execution_count": 12,
   "metadata": {
    "collapsed": true
   },
   "outputs": [],
   "source": [
    "del team_ids[11]"
   ]
  },
  {
   "cell_type": "code",
   "execution_count": 13,
   "metadata": {},
   "outputs": [
    {
     "ename": "NameError",
     "evalue": "name 'league_avg' is not defined",
     "output_type": "error",
     "traceback": [
      "\u001b[1;31m---------------------------------------------------------------------------\u001b[0m",
      "\u001b[1;31mNameError\u001b[0m                                 Traceback (most recent call last)",
      "\u001b[1;32m<ipython-input-13-e06fc03d5f0f>\u001b[0m in \u001b[0;36m<module>\u001b[1;34m()\u001b[0m\n\u001b[0;32m      1\u001b[0m \u001b[0mx\u001b[0m \u001b[1;33m=\u001b[0m \u001b[0maltitudes\u001b[0m\u001b[1;33m[\u001b[0m\u001b[1;34m'altitude'\u001b[0m\u001b[1;33m]\u001b[0m\u001b[1;33m\u001b[0m\u001b[0m\n\u001b[0;32m      2\u001b[0m \u001b[0my\u001b[0m \u001b[1;33m=\u001b[0m \u001b[0mHRF\u001b[0m\u001b[1;33m\u001b[0m\u001b[0m\n\u001b[1;32m----> 3\u001b[1;33m \u001b[0mline\u001b[0m \u001b[1;33m=\u001b[0m \u001b[0mleague_avg\u001b[0m\u001b[1;33m\u001b[0m\u001b[0m\n\u001b[0m\u001b[0;32m      4\u001b[0m \u001b[1;31m#line = ax.plot(x,line)\u001b[0m\u001b[1;33m\u001b[0m\u001b[1;33m\u001b[0m\u001b[0m\n\u001b[0;32m      5\u001b[0m \u001b[0mfig\u001b[0m\u001b[1;33m,\u001b[0m \u001b[0max\u001b[0m \u001b[1;33m=\u001b[0m \u001b[0mplt\u001b[0m\u001b[1;33m.\u001b[0m\u001b[0msubplots\u001b[0m\u001b[1;33m(\u001b[0m\u001b[1;33m)\u001b[0m\u001b[1;33m\u001b[0m\u001b[0m\n",
      "\u001b[1;31mNameError\u001b[0m: name 'league_avg' is not defined"
     ]
    }
   ],
   "source": [
    "x = altitudes['altitude']\n",
    "y = HRF\n",
    "line = league_avg\n",
    "#line = ax.plot(x,line)\n",
    "fig, ax = plt.subplots()\n",
    "plt.axhline(league_avg, color='r')\n",
    "\n",
    "scatter = ax.scatter(x,y)\n",
    "plt.show()"
   ]
  },
  {
   "cell_type": "code",
   "execution_count": null,
   "metadata": {},
   "outputs": [],
   "source": [
    "d = {'Team': team_ids,'Home Run Fraction': HRF, 'altitudes': altitudes['altitude']} \n",
    "dfCor = pd.DataFrame(data=d)\n",
    "dfCor\n"
   ]
  },
  {
   "cell_type": "code",
   "execution_count": null,
   "metadata": {},
   "outputs": [],
   "source": [
    "dfCor['altitudes'].corr(dfCor['Home Run Fraction'])"
   ]
  },
  {
   "cell_type": "code",
   "execution_count": null,
   "metadata": {
    "collapsed": true
   },
   "outputs": [],
   "source": []
  },
  {
   "cell_type": "code",
   "execution_count": null,
   "metadata": {
    "collapsed": true
   },
   "outputs": [],
   "source": []
  }
 ],
 "metadata": {
  "kernelspec": {
   "display_name": "Python 3",
   "language": "python",
   "name": "python3"
  },
  "language_info": {
   "codemirror_mode": {
    "name": "ipython",
    "version": 3
   },
   "file_extension": ".py",
   "mimetype": "text/x-python",
   "name": "python",
   "nbconvert_exporter": "python",
   "pygments_lexer": "ipython3",
   "version": "3.6.1"
  }
 },
 "nbformat": 4,
 "nbformat_minor": 2
}
