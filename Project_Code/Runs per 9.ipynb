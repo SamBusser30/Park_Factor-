{
 "cells": [
  {
   "cell_type": "code",
   "execution_count": 19,
   "metadata": {
    "collapsed": true
   },
   "outputs": [],
   "source": [
    "import pandas as pd\n",
    "import matplotlib.pyplot as plt\n",
    "import matplotlib.axes\n",
    "import numpy as np"
   ]
  },
  {
   "cell_type": "code",
   "execution_count": 20,
   "metadata": {
    "collapsed": true
   },
   "outputs": [],
   "source": [
    "dfRetro = pd.read_csv('C:\\\\Users\\\\Sam\\\\Documents\\\\Data Mining\\\\Project\\\\retrosheet-events-plus-woba-2005_2015.csv')\n",
    "altitudes = pd.read_excel(\"C:\\\\Users\\\\Sam\\\\Documents\\\\Data Mining\\\\Project\\\\Park_Factor\\\\Project_Code\\\\MLB_Stadium_Altitudes.xlsx\")"
   ]
  },
  {
   "cell_type": "code",
   "execution_count": 21,
   "metadata": {
    "collapsed": true
   },
   "outputs": [],
   "source": [
    "dfRetro = dfRetro.drop(['time_since_1900', 'wOBA_pts', 'bat_hand_cd', 'base1_run_id', 'base2_run_id', 'base3_run_id','pitch_seq_tx','po1_fld_cd', 'po2_fld_cd','pit_start_fl', 'pa_ball_ct', 'pa_strike_ct', 'bat_fate_id', 'run1_fate_id', 'run2_fate_id', 'run3_fate_id', 'battedball_cd', 'inn_new_fl', 'inn_end_fl', 'pit_hand_cd'], axis=1)\n"
   ]
  },
  {
   "cell_type": "code",
   "execution_count": 22,
   "metadata": {
    "collapsed": true
   },
   "outputs": [],
   "source": [
    "#now drop any unnecessary events we don't need \n",
    "#stolen bases (4), caught stealing (6), pickoff (8), \n",
    "\n",
    "dfRetro = dfRetro[dfRetro.event_cd != 4]\n",
    "dfRetro = dfRetro[dfRetro.event_cd != 6]\n",
    "dfRetro = dfRetro[dfRetro.event_cd != 8]\n"
   ]
  },
  {
   "cell_type": "code",
   "execution_count": 23,
   "metadata": {
    "collapsed": true
   },
   "outputs": [],
   "source": [
    "events_with_altitudes = pd.merge(dfRetro, altitudes, on='home_team_id')\n"
   ]
  },
  {
   "cell_type": "code",
   "execution_count": 24,
   "metadata": {
    "collapsed": true
   },
   "outputs": [],
   "source": [
    "###Calculating runs per 9 here \n",
    "#creating sorted array of team ids\n",
    "team_ids = []\n",
    "for ii in dfRetro.home_team_id.unique():\n",
    "    team_ids.append(ii)\n",
    "team_ids = sorted(team_ids)\n",
    "#initializing 2d array for total runs \n",
    "total_runs = [[0 for i in range(2)] for j in range(31)] \n",
    "for i in range(0,31):\n",
    "     total_runs[i][0] = team_ids[i]\n",
    "index = 0\n",
    "#getting total runs for each team\n",
    "for ii in team_ids:\n",
    "    dfTemp = dfRetro.loc[dfRetro['home_team_id'] == ii]\n",
    "    total_runs[index][1] = dfTemp['event_runs_ct'].sum()\n",
    "    index +=1\n",
    "    "
   ]
  },
  {
   "cell_type": "code",
   "execution_count": null,
   "metadata": {
    "collapsed": true
   },
   "outputs": [],
   "source": []
  },
  {
   "cell_type": "code",
   "execution_count": 25,
   "metadata": {
    "collapsed": true
   },
   "outputs": [],
   "source": [
    "#making variable with only one event per game so it is easy to count how many games were played \n",
    "test = events_with_altitudes.drop_duplicates('game_id')\n",
    "games_played = test.groupby('home_team_id').size()\n",
    "\n",
    "innings_played = games_played * 9\n",
    "\n",
    "#Florida Marlins became Miami Marlins, storing them all under MIA \n",
    "#changing innings played \n",
    "innings_played['MIA'] = innings_played['FLO']+ innings_played['MIA']\n",
    "del innings_played['FLO']\n",
    "\n",
    "#total runs \n",
    "#FLO is 11, MIA is 15 \n",
    "total_runs[15][1] += total_runs[11][1]\n",
    "del total_runs[11]\n"
   ]
  },
  {
   "cell_type": "code",
   "execution_count": 26,
   "metadata": {
    "collapsed": true
   },
   "outputs": [],
   "source": [
    "#Calculating runs per 9, storing in 2d array\n",
    "runs_per_9 = [[0 for i in range(2)] for j in range(30)] \n",
    "for i in range(0,30):\n",
    "     runs_per_9[i][0] = team_ids[i]\n",
    "#print(runs_per_9)\n",
    "\n",
    "for i in range(len(total_runs)):\n",
    "    #print(innings_played[i])\n",
    "    num = (total_runs[i][1] * 9)\n",
    "    denom = innings_played[i]\n",
    "    runs_per_9[i][1] = num/denom\n",
    "    #runs_per_9[i][1] = ((total_runs[i][1] * 9)/innings_played[i])\n"
   ]
  },
  {
   "cell_type": "code",
   "execution_count": 27,
   "metadata": {},
   "outputs": [
    {
     "name": "stdout",
     "output_type": "stream",
     "text": [
      "[8.5634118967452295, 9.4287317620650946, 8.4017957351290686, 9.4966292134831463, 9.9955106621773293, 9.1683501683501678, 8.8977528089887645, 9.1647982062780269, 8.9133858267716537, 10.888888888888889, 9.3995510662177324, 8.5426966292134825, 9.1795735129068454, 8.0, 8.7205387205387197, 9.0751964085297416, 8.9719416386083051, 9.6228956228956228, 8.1964085297418627, 8.3108866442199769, 9.1212121212121211, 8.4365881032547705, 7.4062850729517393, 7.9439461883408073, 7.8698092031425366, 8.4393258426966291, 8.5589225589225588, 10.095398428731762, 9.2154882154882163, 8.4398200224971873]\n"
     ]
    }
   ],
   "source": [
    "#storing just runs per 9 in an array for graphing\n",
    "per_9 = []\n",
    "for ii in range(len(runs_per_9)):\n",
    "    per_9.append(runs_per_9[ii][1])\n",
    "print(per_9)"
   ]
  },
  {
   "cell_type": "code",
   "execution_count": 28,
   "metadata": {
    "scrolled": true
   },
   "outputs": [
    {
     "data": {
      "image/png": "[encoded data removed]",
      "text/plain": [
       "<matplotlib.figure.Figure at 0x2ecad7e63c8>"
      ]
     },
     "metadata": {},
     "output_type": "display_data"
    },
    {
     "data": {
      "text/plain": [
       "<matplotlib.figure.Figure at 0x2ecacf32ef0>"
      ]
     },
     "metadata": {},
     "output_type": "display_data"
    }
   ],
   "source": [
    "#Graph runs per 9 vs team id \n",
    "plt.title(\"Runs Per 9 for Each Team\", size=20)\n",
    "plt.xlabel(\"Team ID\", size=16)\n",
    "plt.ylabel(\"Runs per 9 innings\", size=16)\n",
    "y_pos = np.arange(len(runs_per_9))\n",
    "plt.bar(y_pos, per_9, align='center', alpha=0.5, width=0.5)\n",
    "plt.xticks(y_pos, team_ids, rotation='vertical')\n",
    "plt.figure(figsize=(50, 3))\n",
    "\n",
    "plt.show()"
   ]
  },
  {
   "cell_type": "code",
   "execution_count": 29,
   "metadata": {
    "collapsed": true
   },
   "outputs": [],
   "source": [
    "alts = []\n",
    "#print(sorted(altitudes['altitude']))"
   ]
  },
  {
   "cell_type": "code",
   "execution_count": 30,
   "metadata": {},
   "outputs": [
    {
     "data": {
      "image/png": "[encoded data removed]",
      "text/plain": [
       "<matplotlib.figure.Figure at 0x2ec915f2240>"
      ]
     },
     "metadata": {},
     "output_type": "display_data"
    },
    {
     "data": {
      "text/plain": [
       "<matplotlib.figure.Figure at 0x2ecad714d30>"
      ]
     },
     "metadata": {},
     "output_type": "display_data"
    }
   ],
   "source": [
    "#graphing runs per 9 vs altitude \n",
    "plt.title(\"Runs Per 9 with Altitude\", size=20)\n",
    "plt.xlabel(\"Altitude (in feet)\", size=16)\n",
    "plt.ylabel(\"Runs per 9 innings\", size=16)\n",
    "y_pos = np.arange(len(runs_per_9))\n",
    "plt.bar(y_pos, per_9, align='center', alpha=0.5, width=0.5)\n",
    "plt.xticks(y_pos, sorted(altitudes['altitude']), rotation='vertical')\n",
    "plt.figure(figsize=(50, 3))\n",
    "\n",
    "plt.show()"
   ]
  },
  {
   "cell_type": "code",
   "execution_count": 31,
   "metadata": {},
   "outputs": [
    {
     "name": "stdout",
     "output_type": "stream",
     "text": [
      "8.88220326298\n"
     ]
    }
   ],
   "source": [
    "league_runs = 0\n",
    "league_inn_played = sum(innings_played)\n",
    "\n",
    "for ii in range(len(total_runs)):\n",
    "    league_runs += total_runs[ii][1]\n",
    "league_runs = league_runs * 9\n",
    "league_avg = league_runs / league_inn_played \n",
    "print(league_avg)\n"
   ]
  },
  {
   "cell_type": "code",
   "execution_count": null,
   "metadata": {},
   "outputs": [],
   "source": []
  },
  {
   "cell_type": "code",
   "execution_count": 32,
   "metadata": {
    "collapsed": true
   },
   "outputs": [],
   "source": [
    "#removing now unnecessarry FLO team id entry \n",
    "del team_ids[11]\n",
    "altitudes = altitudes.drop(21)"
   ]
  },
  {
   "cell_type": "code",
   "execution_count": 43,
   "metadata": {},
   "outputs": [
    {
     "data": {
      "image/png": "[encoded data removed]",
      "text/plain": [
       "<matplotlib.figure.Figure at 0x2ecacf324e0>"
      ]
     },
     "metadata": {},
     "output_type": "display_data"
    }
   ],
   "source": [
    "x = altitudes['altitude']\n",
    "y = per_9\n",
    "line = league_avg\n",
    "#line = ax.plot(x,line)\n",
    "fig, ax = plt.subplots()\n",
    "plt.axhline(league_avg, color='r')\n",
    "plt.xlabel(\"Altitude in Feet\", size=16)\n",
    "plt.ylabel(\"Runs per 9 Innings\", size=16)\n",
    "plt.title(\"Runs per 9 by Altitude with League Average\", size=20)\n",
    "\n",
    "scatter = ax.scatter(x,y)\n",
    "\n",
    "plt.show()"
   ]
  },
  {
   "cell_type": "code",
   "execution_count": 42,
   "metadata": {},
   "outputs": [
    {
     "data": {
      "image/png": "[encoded data removed]",
      "text/plain": [
       "<matplotlib.figure.Figure at 0x2ecac5576d8>"
      ]
     },
     "metadata": {},
     "output_type": "display_data"
    }
   ],
   "source": [
    "x = altitudes['altitude']\n",
    "y = per_9\n",
    "line = league_avg\n",
    "#line = ax.plot(x,line)\n",
    "fig, ax = plt.subplots()\n",
    "plt.xlabel(\"Altitude in Feet\", size=16)\n",
    "plt.ylabel(\"Runs per 9 Innings\", size=16)\n",
    "plt.title(\"Runs per 9 by Altitude with League Average\", size=20)\n",
    "\n",
    "scatter = ax.scatter(x,y)\n",
    "\n",
    "plt.plot(np.unique(x), np.poly1d(np.polyfit(x, y, 1))(np.unique(x)), color='green')\n",
    "plt.show()"
   ]
  },
  {
   "cell_type": "code",
   "execution_count": 34,
   "metadata": {
    "collapsed": true
   },
   "outputs": [],
   "source": [
    "#creating dataframe for correlation calculation \n",
    "d = {'Team': team_ids,'runs_per_9': per_9, 'altitudes': altitudes['altitude']} \n",
    "dfCor = pd.DataFrame(data=d)\n"
   ]
  },
  {
   "cell_type": "code",
   "execution_count": 35,
   "metadata": {},
   "outputs": [
    {
     "data": {
      "text/plain": [
       "-0.19441618383260126"
      ]
     },
     "execution_count": 35,
     "metadata": {},
     "output_type": "execute_result"
    }
   ],
   "source": [
    "dfCor['altitudes'].corr(dfCor['runs_per_9'])"
   ]
  },
  {
   "cell_type": "code",
   "execution_count": null,
   "metadata": {
    "collapsed": true
   },
   "outputs": [],
   "source": []
  },
  {
   "cell_type": "code",
   "execution_count": null,
   "metadata": {
    "collapsed": true
   },
   "outputs": [],
   "source": []
  },
  {
   "cell_type": "code",
   "execution_count": null,
   "metadata": {
    "collapsed": true
   },
   "outputs": [],
   "source": []
  },
  {
   "cell_type": "code",
   "execution_count": null,
   "metadata": {
    "collapsed": true
   },
   "outputs": [],
   "source": []
  }
 ],
 "metadata": {
  "kernelspec": {
   "display_name": "Python 3",
   "language": "python",
   "name": "python3"
  },
  "language_info": {
   "codemirror_mode": {
    "name": "ipython",
    "version": 3
   },
   "file_extension": ".py",
   "mimetype": "text/x-python",
   "name": "python",
   "nbconvert_exporter": "python",
   "pygments_lexer": "ipython3",
   "version": "3.6.1"
  }
 },
 "nbformat": 4,
 "nbformat_minor": 2
}
