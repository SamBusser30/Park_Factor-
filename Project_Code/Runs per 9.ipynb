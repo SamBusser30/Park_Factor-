{
 "cells": [
  {
   "cell_type": "code",
   "execution_count": 16,
   "metadata": {},
   "outputs": [],
   "source": [
    "import pandas as pd\n",
    "import matplotlib.pyplot as plt\n",
    "import numpy as np"
   ]
  },
  {
   "cell_type": "code",
   "execution_count": 2,
   "metadata": {
    "collapsed": true
   },
   "outputs": [],
   "source": [
    "dfRetro = pd.read_csv('C:\\\\Users\\\\Sam\\\\Documents\\\\Data Mining\\\\Project\\\\retrosheet-events-plus-woba-2005_2015.csv')\n",
    "altitudes = pd.read_excel(\"C:\\\\Users\\\\Sam\\\\Documents\\\\Data Mining\\\\Project\\\\Park_Factor\\\\Project_Code\\\\MLB_Stadium_Altitudes.xlsx\")\n"
   ]
  },
  {
   "cell_type": "code",
   "execution_count": 3,
   "metadata": {
    "collapsed": true
   },
   "outputs": [],
   "source": [
    "dfRetro = dfRetro.drop(['time_since_1900', 'wOBA_pts', 'bat_hand_cd', 'base1_run_id', 'base2_run_id', 'base3_run_id','pitch_seq_tx','po1_fld_cd', 'po2_fld_cd','pit_start_fl', 'pa_ball_ct', 'pa_strike_ct', 'bat_fate_id', 'run1_fate_id', 'run2_fate_id', 'run3_fate_id', 'battedball_cd', 'inn_new_fl', 'inn_end_fl', 'pit_hand_cd'], axis=1)\n"
   ]
  },
  {
   "cell_type": "code",
   "execution_count": 4,
   "metadata": {},
   "outputs": [
    {
     "name": "stdout",
     "output_type": "stream",
     "text": [
      "2111526\n",
      "2069898\n"
     ]
    }
   ],
   "source": [
    "#now drop any unnecessary events we don't need \n",
    "#stolen bases (4), caught stealing (6), pickoff (8), \n",
    "print(len(dfRetro))\n",
    "\n",
    "dfRetro = dfRetro[dfRetro.event_cd != 4]\n",
    "dfRetro = dfRetro[dfRetro.event_cd != 6]\n",
    "dfRetro = dfRetro[dfRetro.event_cd != 8]\n",
    "\n",
    "\n",
    "print(len(dfRetro))"
   ]
  },
  {
   "cell_type": "code",
   "execution_count": 5,
   "metadata": {
    "collapsed": true
   },
   "outputs": [],
   "source": [
    "events_with_altitudes = pd.merge(dfRetro, altitudes, on='home_team_id')\n"
   ]
  },
  {
   "cell_type": "code",
   "execution_count": 6,
   "metadata": {
    "collapsed": true
   },
   "outputs": [],
   "source": [
    "###Calculating runs per 9 here \n",
    "team_ids = []\n",
    "for ii in dfRetro.home_team_id.unique():\n",
    "    team_ids.append(ii)\n",
    "total_runs = [[0 for i in range(2)] for j in range(30)] \n",
    "for i in range(0,30):\n",
    "     total_runs[i][0] = team_ids[i]\n",
    "for i in range(0,30):\n",
    "    \n",
    "    for j in range(0,len(events_with_altitudes)):\n",
    "    \n",
    "        if events_with_altitudes['home_team_id'][j] == total_runs[i][0]:\n",
    "        \n",
    "            total_runs[i][1] += events_with_altitudes['event_runs_ct'][j]"
   ]
  },
  {
   "cell_type": "code",
   "execution_count": 47,
   "metadata": {},
   "outputs": [
    {
     "name": "stdout",
     "output_type": "stream",
     "text": [
      "home_team_id\n",
      "ANA    8019\n",
      "ARI    8019\n",
      "ATL    8019\n",
      "BAL    8010\n",
      "BOS    8019\n",
      "CHA    8019\n",
      "CHN    8010\n",
      "CIN    8028\n",
      "CLE    8001\n",
      "COL    8019\n",
      "DET    8019\n",
      "FLO    5103\n",
      "HOU    8010\n",
      "KCA    8019\n",
      "LAN    8019\n",
      "MIA    2916\n",
      "MIL    8019\n",
      "MIN    8019\n",
      "NYA    8019\n",
      "NYN    8019\n",
      "OAK    8019\n",
      "PHI    8019\n",
      "PIT    8019\n",
      "SDN    8019\n",
      "SEA    8028\n",
      "SFN    8019\n",
      "SLN    8010\n",
      "TBA    8019\n",
      "TEX    8019\n",
      "TOR    8019\n",
      "WAS    8001\n",
      "dtype: int64\n"
     ]
    }
   ],
   "source": [
    "test = events_with_altitudes.drop_duplicates('game_id')\n",
    "games_played = test.groupby('home_team_id').size()\n",
    "#print(games_played)\n",
    "innings_played = games_played * 9\n",
    "#print(innings_played)"
   ]
  },
  {
   "cell_type": "code",
   "execution_count": 8,
   "metadata": {},
   "outputs": [
    {
     "name": "stdout",
     "output_type": "stream",
     "text": [
      "[['ANA', 8.5634118967452295], ['ARI', 9.4287317620650946], ['ATL', 8.4017957351290686], ['BAL', 9.4966292134831463], ['BOS', 9.9955106621773293], ['CHA', 9.1683501683501678], ['CHN', 8.8977528089887645], ['CIN', 9.1647982062780269], ['CLE', 8.9133858267716537], ['COL', 10.888888888888889], ['DET', 9.3995510662177324], ['FLO', 9.2186948853615522], ['HOU', 8.5426966292134825], ['KCA', 9.1795735129068454], ['LAN', 8.0], ['MIL', 24.956790123456791], ['MIN', 8.9719416386083051], ['NYA', 9.6228956228956228], ['NYN', 8.1964085297418627], ['OAK', 8.3108866442199769], ['PHI', 9.1212121212121211], ['PIT', 8.4365881032547705], ['SDN', 7.4062850729517393], ['SEA', 7.9528619528619533], ['SFN', 7.8609865470852016], ['SLN', 8.4298540965207636], ['TBA', 8.5685393258426963], ['TEX', 10.095398428731762], ['TOR', 9.2154882154882163], ['WAS', 8.4208754208754204]]\n"
     ]
    }
   ],
   "source": [
    "runs_per_9 = [[0 for i in range(2)] for j in range(30)] \n",
    "for i in range(0,30):\n",
    "     runs_per_9[i][0] = team_ids[i]\n",
    "#print(runs_per_9)\n",
    "\n",
    "for i in range(len(total_runs)):\n",
    "    runs_per_9[i][1] = ((total_runs[i][1] * 9)/innings_played[i])\n",
    "print(runs_per_9)"
   ]
  },
  {
   "cell_type": "code",
   "execution_count": 50,
   "metadata": {},
   "outputs": [
    {
     "name": "stdout",
     "output_type": "stream",
     "text": [
      "[8.5634118967452295, 9.4287317620650946, 8.4017957351290686, 9.4966292134831463, 9.9955106621773293, 9.1683501683501678, 8.8977528089887645, 9.1647982062780269, 8.9133858267716537, 10.888888888888889, 9.3995510662177324, 9.2186948853615522, 8.5426966292134825, 9.1795735129068454, 8.0, 24.956790123456791, 8.9719416386083051, 9.6228956228956228, 8.1964085297418627, 8.3108866442199769, 9.1212121212121211, 8.4365881032547705, 7.4062850729517393, 7.9528619528619533, 7.8609865470852016, 8.4298540965207636, 8.5685393258426963, 10.095398428731762, 9.2154882154882163, 8.4208754208754204]\n"
     ]
    }
   ],
   "source": [
    "per_9 = []\n",
    "for ii in range(len(runs_per_9)):\n",
    "    per_9.append(runs_per_9[ii][1])\n",
    "print(per_9)"
   ]
  },
  {
   "cell_type": "code",
   "execution_count": 55,
   "metadata": {},
   "outputs": [
    {
     "data": {
      "image/png": "[encoded data removed]",
      "text/plain": [
       "<matplotlib.figure.Figure at 0x220426664e0>"
      ]
     },
     "metadata": {},
     "output_type": "display_data"
    },
    {
     "data": {
      "text/plain": [
       "<matplotlib.figure.Figure at 0x220682ffe80>"
      ]
     },
     "metadata": {},
     "output_type": "display_data"
    }
   ],
   "source": [
    "plt.title(\"Runs Per 9 for Each Team\", size=20)\n",
    "plt.xlabel(\"Team ID\", size=16)\n",
    "plt.ylabel(\"Runs per 9 innings\", size=16)\n",
    "y_pos = np.arange(len(runs_per_9))\n",
    "plt.bar(y_pos, per_9, align='center', alpha=0.5, width=0.5)\n",
    "plt.xticks(y_pos, team_ids, rotation='vertical')\n",
    "plt.figure(figsize=(50, 3))\n",
    "\n",
    "plt.show()"
   ]
  },
  {
   "cell_type": "code",
   "execution_count": 28,
   "metadata": {},
   "outputs": [
    {
     "name": "stdout",
     "output_type": "stream",
     "text": [
      "9.16835016835\n"
     ]
    }
   ],
   "source": [
    "print(runs_per_9[5][1])"
   ]
  },
  {
   "cell_type": "code",
   "execution_count": null,
   "metadata": {},
   "outputs": [],
   "source": [
    "temp_count = 0\n",
    "for index, row in dfRetro.iterrows():\n",
    "    if row['home_team_id'] == \"MIL\":\n",
    "        temp_count+=1\n",
    "print(temp_count)"
   ]
  },
  {
   "cell_type": "code",
   "execution_count": null,
   "metadata": {
    "collapsed": true
   },
   "outputs": [],
   "source": []
  }
 ],
 "metadata": {
  "kernelspec": {
   "display_name": "Python 3",
   "language": "python",
   "name": "python3"
  },
  "language_info": {
   "codemirror_mode": {
    "name": "ipython",
    "version": 3
   },
   "file_extension": ".py",
   "mimetype": "text/x-python",
   "name": "python",
   "nbconvert_exporter": "python",
   "pygments_lexer": "ipython3",
   "version": "3.6.1"
  }
 },
 "nbformat": 4,
 "nbformat_minor": 2
}
