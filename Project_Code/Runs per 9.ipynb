{
 "cells": [
  {
   "cell_type": "code",
   "execution_count": 1,
   "metadata": {
    "collapsed": true
   },
   "outputs": [],
   "source": [
    "import pandas as pd\n",
    "import matplotlib.pyplot as plt\n",
    "import numpy as np"
   ]
  },
  {
   "cell_type": "code",
   "execution_count": 2,
   "metadata": {
    "collapsed": true
   },
   "outputs": [],
   "source": [
    "dfRetro = pd.read_csv('C:\\\\Users\\\\Sam\\\\Documents\\\\Data Mining\\\\Project\\\\retrosheet-events-plus-woba-2005_2015.csv')\n",
    "altitudes = pd.read_excel(\"C:\\\\Users\\\\Sam\\\\Documents\\\\Data Mining\\\\Project\\\\Park_Factor\\\\Project_Code\\\\MLB_Stadium_Altitudes.xlsx\")\n"
   ]
  },
  {
   "cell_type": "code",
   "execution_count": 3,
   "metadata": {
    "collapsed": true
   },
   "outputs": [],
   "source": [
    "dfRetro = dfRetro.drop(['time_since_1900', 'wOBA_pts', 'bat_hand_cd', 'base1_run_id', 'base2_run_id', 'base3_run_id','pitch_seq_tx','po1_fld_cd', 'po2_fld_cd','pit_start_fl', 'pa_ball_ct', 'pa_strike_ct', 'bat_fate_id', 'run1_fate_id', 'run2_fate_id', 'run3_fate_id', 'battedball_cd', 'inn_new_fl', 'inn_end_fl', 'pit_hand_cd'], axis=1)\n"
   ]
  },
  {
   "cell_type": "code",
   "execution_count": 4,
   "metadata": {},
   "outputs": [
    {
     "name": "stdout",
     "output_type": "stream",
     "text": [
      "2111526\n",
      "2069898\n"
     ]
    }
   ],
   "source": [
    "#now drop any unnecessary events we don't need \n",
    "#stolen bases (4), caught stealing (6), pickoff (8), \n",
    "print(len(dfRetro))\n",
    "\n",
    "dfRetro = dfRetro[dfRetro.event_cd != 4]\n",
    "dfRetro = dfRetro[dfRetro.event_cd != 6]\n",
    "dfRetro = dfRetro[dfRetro.event_cd != 8]\n",
    "\n",
    "\n",
    "print(len(dfRetro))"
   ]
  },
  {
   "cell_type": "code",
   "execution_count": 5,
   "metadata": {
    "collapsed": true
   },
   "outputs": [],
   "source": [
    "events_with_altitudes = pd.merge(dfRetro, altitudes, on='home_team_id')\n"
   ]
  },
  {
   "cell_type": "code",
   "execution_count": 6,
   "metadata": {},
   "outputs": [],
   "source": [
    "###Calculating runs per 9 here \n",
    "team_ids = []\n",
    "for ii in dfRetro.home_team_id.unique():\n",
    "    team_ids.append(ii)\n",
    "team_ids = sorted(team_ids)\n",
    "total_runs = [[0 for i in range(2)] for j in range(30)] \n",
    "for i in range(0,30):\n",
    "     total_runs[i][0] = team_ids[i]\n",
    "for i in range(0,30):\n",
    "    \n",
    "    for j in range(0,len(events_with_altitudes)):\n",
    "    \n",
    "        if events_with_altitudes['home_team_id'][j] == total_runs[i][0]:\n",
    "        \n",
    "            total_runs[i][1] += events_with_altitudes['event_runs_ct'][j]"
   ]
  },
  {
   "cell_type": "code",
   "execution_count": null,
   "metadata": {},
   "outputs": [],
   "source": []
  },
  {
   "cell_type": "code",
   "execution_count": 7,
   "metadata": {},
   "outputs": [
    {
     "name": "stdout",
     "output_type": "stream",
     "text": [
      "home_team_id\n",
      "ANA    8019\n",
      "ARI    8019\n",
      "ATL    8019\n",
      "BAL    8010\n",
      "BOS    8019\n",
      "CHA    8019\n",
      "CHN    8010\n",
      "CIN    8028\n",
      "CLE    8001\n",
      "COL    8019\n",
      "DET    8019\n",
      "FLO    5103\n",
      "HOU    8010\n",
      "KCA    8019\n",
      "LAN    8019\n",
      "MIA    2916\n",
      "MIL    8019\n",
      "MIN    8019\n",
      "NYA    8019\n",
      "NYN    8019\n",
      "OAK    8019\n",
      "PHI    8019\n",
      "PIT    8019\n",
      "SDN    8019\n",
      "SEA    8028\n",
      "SFN    8019\n",
      "SLN    8010\n",
      "TBA    8019\n",
      "TEX    8019\n",
      "TOR    8019\n",
      "WAS    8001\n",
      "dtype: int64\n",
      "[['ANA', 7630], ['ARI', 8401], ['ATL', 7486], ['BAL', 8452], ['BOS', 8906], ['CHA', 8169], ['CHN', 7919], ['CIN', 8175], ['CLE', 7924], ['COL', 9702], ['DET', 8375], ['FLO', 5227], ['HOU', 7603], ['KCA', 8179], ['LAN', 7128], ['MIA', 2543], ['MIL', 8086], ['MIN', 7994], ['NYA', 8574], ['NYN', 7303], ['OAK', 7405], ['PHI', 8127], ['PIT', 7517], ['SDN', 6599], ['SEA', 7086], ['SFN', 7012], ['SLN', 7511], ['TBA', 7626], ['TEX', 8995], ['TOR', 8211]]\n"
     ]
    }
   ],
   "source": [
    "test = events_with_altitudes.drop_duplicates('game_id')\n",
    "games_played = test.groupby('home_team_id').size()\n",
    "#print(games_played)\n",
    "innings_played = games_played * 9\n",
    "print(innings_played)\n",
    "print(total_runs)"
   ]
  },
  {
   "cell_type": "code",
   "execution_count": 8,
   "metadata": {},
   "outputs": [
    {
     "name": "stdout",
     "output_type": "stream",
     "text": [
      "ANA 7630 8019\n",
      "ARI 8401 8019\n",
      "ATL 7486 8019\n",
      "BAL 8452 8010\n",
      "BOS 8906 8019\n",
      "CHA 8169 8019\n",
      "CHN 7919 8010\n",
      "CIN 8175 8028\n",
      "CLE 7924 8001\n",
      "COL 9702 8019\n",
      "DET 8375 8019\n",
      "FLO 5227 5103\n",
      "HOU 7603 8010\n",
      "KCA 8179 8019\n",
      "LAN 7128 8019\n",
      "MIA 2543 2916\n",
      "MIL 8086 8019\n",
      "MIN 7994 8019\n",
      "NYA 8574 8019\n",
      "NYN 7303 8019\n",
      "OAK 7405 8019\n",
      "PHI 8127 8019\n",
      "PIT 7517 8019\n",
      "SDN 6599 8019\n",
      "SEA 7086 8028\n",
      "SFN 7012 8019\n",
      "SLN 7511 8010\n",
      "TBA 7626 8019\n",
      "TEX 8995 8019\n",
      "TOR 8211 8019\n",
      "[['ANA', 8.5634118967452295], ['ARI', 9.4287317620650946], ['ATL', 8.4017957351290686], ['BAL', 9.4966292134831463], ['BOS', 9.9955106621773293], ['CHA', 9.1683501683501678], ['CHN', 8.8977528089887645], ['CIN', 9.1647982062780269], ['CLE', 8.9133858267716537], ['COL', 10.888888888888889], ['DET', 9.3995510662177324], ['FLO', 9.2186948853615522], ['HOU', 8.5426966292134825], ['KCA', 9.1795735129068454], ['LAN', 8.0], ['MIA', 7.8487654320987659], ['MIL', 9.0751964085297416], ['MIN', 8.9719416386083051], ['NYA', 9.6228956228956228], ['NYN', 8.1964085297418627], ['OAK', 8.3108866442199769], ['PHI', 9.1212121212121211], ['PIT', 8.4365881032547705], ['SDN', 7.4062850729517393], ['SEA', 7.9439461883408073], ['SFN', 7.8698092031425366], ['SLN', 8.4393258426966291], ['TBA', 8.5589225589225588], ['TEX', 10.095398428731762], ['TOR', 9.2154882154882163]]\n"
     ]
    }
   ],
   "source": [
    "runs_per_9 = [[0 for i in range(2)] for j in range(30)] \n",
    "for i in range(0,30):\n",
    "     runs_per_9[i][0] = team_ids[i]\n",
    "#print(runs_per_9)\n",
    "\n",
    "for i in range(len(total_runs)):\n",
    "    print(team_ids[i], total_runs[i][1], innings_played[i])\n",
    "    #print(innings_played[i])\n",
    "    num = (total_runs[i][1] * 9)\n",
    "    denom = innings_played[i]\n",
    "    runs_per_9[i][1] = num/denom\n",
    "    #runs_per_9[i][1] = ((total_runs[i][1] * 9)/innings_played[i])\n",
    "print(runs_per_9)"
   ]
  },
  {
   "cell_type": "code",
   "execution_count": 9,
   "metadata": {},
   "outputs": [
    {
     "name": "stdout",
     "output_type": "stream",
     "text": [
      "[8.5634118967452295, 9.4287317620650946, 8.4017957351290686, 9.4966292134831463, 9.9955106621773293, 9.1683501683501678, 8.8977528089887645, 9.1647982062780269, 8.9133858267716537, 10.888888888888889, 9.3995510662177324, 9.2186948853615522, 8.5426966292134825, 9.1795735129068454, 8.0, 7.8487654320987659, 9.0751964085297416, 8.9719416386083051, 9.6228956228956228, 8.1964085297418627, 8.3108866442199769, 9.1212121212121211, 8.4365881032547705, 7.4062850729517393, 7.9439461883408073, 7.8698092031425366, 8.4393258426966291, 8.5589225589225588, 10.095398428731762, 9.2154882154882163]\n"
     ]
    }
   ],
   "source": [
    "per_9 = []\n",
    "for ii in range(len(runs_per_9)):\n",
    "    per_9.append(runs_per_9[ii][1])\n",
    "print(per_9)"
   ]
  },
  {
   "cell_type": "code",
   "execution_count": 10,
   "metadata": {},
   "outputs": [
    {
     "data": {
      "image/png": "[encoded data removed]",
      "text/plain": [
       "<matplotlib.figure.Figure at 0x19441e4a9b0>"
      ]
     },
     "metadata": {},
     "output_type": "display_data"
    },
    {
     "data": {
      "text/plain": [
       "<matplotlib.figure.Figure at 0x19412e9def0>"
      ]
     },
     "metadata": {},
     "output_type": "display_data"
    }
   ],
   "source": [
    "plt.title(\"Runs Per 9 for Each Team\", size=20)\n",
    "plt.xlabel(\"Team ID\", size=16)\n",
    "plt.ylabel(\"Runs per 9 innings\", size=16)\n",
    "y_pos = np.arange(len(runs_per_9))\n",
    "plt.bar(y_pos, per_9, align='center', alpha=0.5, width=0.5)\n",
    "plt.xticks(y_pos, team_ids, rotation='vertical')\n",
    "plt.figure(figsize=(50, 3))\n",
    "\n",
    "plt.show()"
   ]
  },
  {
   "cell_type": "code",
   "execution_count": null,
   "metadata": {},
   "outputs": [],
   "source": []
  },
  {
   "cell_type": "code",
   "execution_count": null,
   "metadata": {},
   "outputs": [],
   "source": []
  },
  {
   "cell_type": "code",
   "execution_count": null,
   "metadata": {},
   "outputs": [],
   "source": []
  },
  {
   "cell_type": "code",
   "execution_count": null,
   "metadata": {},
   "outputs": [],
   "source": []
  },
  {
   "cell_type": "code",
   "execution_count": null,
   "metadata": {
    "collapsed": true
   },
   "outputs": [],
   "source": []
  }
 ],
 "metadata": {
  "kernelspec": {
   "display_name": "Python 3",
   "language": "python",
   "name": "python3"
  },
  "language_info": {
   "codemirror_mode": {
    "name": "ipython",
    "version": 3
   },
   "file_extension": ".py",
   "mimetype": "text/x-python",
   "name": "python",
   "nbconvert_exporter": "python",
   "pygments_lexer": "ipython3",
   "version": "3.6.1"
  }
 },
 "nbformat": 4,
 "nbformat_minor": 2
}
