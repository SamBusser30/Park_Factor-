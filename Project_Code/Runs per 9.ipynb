{
 "cells": [
  {
   "cell_type": "code",
   "execution_count": 1,
   "metadata": {
    "collapsed": true
   },
   "outputs": [],
   "source": [
    "import pandas as pd"
   ]
  },
  {
   "cell_type": "code",
   "execution_count": 2,
   "metadata": {
    "collapsed": true
   },
   "outputs": [],
   "source": [
    "dfRetro = pd.read_csv('C:\\\\Users\\\\Sam\\\\Documents\\\\Data Mining\\\\Project\\\\retrosheet-events-plus-woba-2005_2015.csv')\n",
    "altitudes = pd.read_excel(\"C:\\\\Users\\\\Sam\\\\Documents\\\\Data Mining\\\\Project\\\\Park_Factor\\\\Project_Code\\\\MLB_Stadium_Altitudes.xlsx\")\n"
   ]
  },
  {
   "cell_type": "code",
   "execution_count": 3,
   "metadata": {
    "collapsed": true
   },
   "outputs": [],
   "source": [
    "dfRetro = dfRetro.drop(['time_since_1900', 'wOBA_pts', 'bat_hand_cd', 'base1_run_id', 'base2_run_id', 'base3_run_id','pitch_seq_tx','po1_fld_cd', 'po2_fld_cd','pit_start_fl', 'pa_ball_ct', 'pa_strike_ct', 'bat_fate_id', 'run1_fate_id', 'run2_fate_id', 'run3_fate_id', 'battedball_cd', 'inn_new_fl', 'inn_end_fl', 'pit_hand_cd'], axis=1)\n"
   ]
  },
  {
   "cell_type": "code",
   "execution_count": 4,
   "metadata": {},
   "outputs": [
    {
     "name": "stdout",
     "output_type": "stream",
     "text": [
      "2111526\n",
      "2069898\n"
     ]
    }
   ],
   "source": [
    "#now drop any unnecessary events we don't need \n",
    "#stolen bases (4), caught stealing (6), pickoff (8), \n",
    "print(len(dfRetro))\n",
    "\n",
    "dfRetro = dfRetro[dfRetro.event_cd != 4]\n",
    "dfRetro = dfRetro[dfRetro.event_cd != 6]\n",
    "dfRetro = dfRetro[dfRetro.event_cd != 8]\n",
    "\n",
    "\n",
    "print(len(dfRetro))"
   ]
  },
  {
   "cell_type": "code",
   "execution_count": 5,
   "metadata": {
    "collapsed": true
   },
   "outputs": [],
   "source": [
    "events_with_altitudes = pd.merge(dfRetro, altitudes, on='home_team_id')\n"
   ]
  },
  {
   "cell_type": "code",
   "execution_count": 6,
   "metadata": {
    "collapsed": true
   },
   "outputs": [],
   "source": [
    "###Calculating runs per 9 here \n",
    "team_ids = []\n",
    "for ii in dfRetro.home_team_id.unique():\n",
    "    team_ids.append(ii)\n",
    "total_runs = [[0 for i in range(2)] for j in range(30)] \n",
    "for i in range(0,30):\n",
    "     total_runs[i][0] = team_ids[i]\n",
    "for i in range(0,30):\n",
    "    \n",
    "    for j in range(0,len(events_with_altitudes)):\n",
    "    \n",
    "        if events_with_altitudes['home_team_id'][j] == total_runs[i][0]:\n",
    "        \n",
    "            total_runs[i][1] += events_with_altitudes['event_runs_ct'][j]"
   ]
  },
  {
   "cell_type": "code",
   "execution_count": 8,
   "metadata": {
    "collapsed": true
   },
   "outputs": [],
   "source": [
    "test = events_with_altitudes.drop_duplicates('game_id')\n",
    "games_played = test.groupby('home_team_id').size()\n",
    "#print(games_played)\n",
    "innings_played = games_played * 9"
   ]
  },
  {
   "cell_type": "code",
   "execution_count": 9,
   "metadata": {},
   "outputs": [
    {
     "name": "stdout",
     "output_type": "stream",
     "text": [
      "[['ANA', 8.5634118967452295], ['ARI', 9.4287317620650946], ['ATL', 8.4017957351290686], ['BAL', 9.4966292134831463], ['BOS', 9.9955106621773293], ['CHA', 9.1683501683501678], ['CHN', 8.8977528089887645], ['CIN', 9.1647982062780269], ['CLE', 8.9133858267716537], ['COL', 10.888888888888889], ['DET', 9.3995510662177324], ['FLO', 9.2186948853615522], ['HOU', 8.5426966292134825], ['KCA', 9.1795735129068454], ['LAN', 8.0], ['MIL', 24.956790123456791], ['MIN', 8.9719416386083051], ['NYA', 9.6228956228956228], ['NYN', 8.1964085297418627], ['OAK', 8.3108866442199769], ['PHI', 9.1212121212121211], ['PIT', 8.4365881032547705], ['SDN', 7.4062850729517393], ['SEA', 7.9528619528619533], ['SFN', 7.8609865470852016], ['SLN', 8.4298540965207636], ['TBA', 8.5685393258426963], ['TEX', 10.095398428731762], ['TOR', 9.2154882154882163], ['WAS', 8.4208754208754204]]\n"
     ]
    }
   ],
   "source": [
    "runs_per_9 = [[0 for i in range(2)] for j in range(30)] \n",
    "for i in range(0,30):\n",
    "     runs_per_9[i][0] = team_ids[i]\n",
    "#print(runs_per_9)\n",
    "\n",
    "for i in range(len(total_runs)):\n",
    "    runs_per_9[i][1] = ((total_runs[i][1] * 9)/innings_played[i])\n",
    "print(runs_per_9)"
   ]
  },
  {
   "cell_type": "code",
   "execution_count": null,
   "metadata": {
    "collapsed": true
   },
   "outputs": [],
   "source": []
  }
 ],
 "metadata": {
  "kernelspec": {
   "display_name": "Python 3",
   "language": "python",
   "name": "python3"
  },
  "language_info": {
   "codemirror_mode": {
    "name": "ipython",
    "version": 3
   },
   "file_extension": ".py",
   "mimetype": "text/x-python",
   "name": "python",
   "nbconvert_exporter": "python",
   "pygments_lexer": "ipython3",
   "version": "3.6.1"
  }
 },
 "nbformat": 4,
 "nbformat_minor": 2
}
