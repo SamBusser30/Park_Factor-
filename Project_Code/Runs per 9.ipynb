{
 "cells": [
  {
   "cell_type": "code",
   "execution_count": 6,
   "metadata": {
    "collapsed": true
   },
   "outputs": [],
   "source": [
    "import pandas as pd"
   ]
  },
  {
   "cell_type": "code",
   "execution_count": 7,
   "metadata": {
    "collapsed": true
   },
   "outputs": [],
   "source": [
    "dfRetro = pd.read_csv('C:\\\\Users\\\\Sam\\\\Documents\\\\Data Mining\\\\Project\\\\retrosheet-events-plus-woba-2005_2015.csv')\n",
    "altitudes = pd.read_excel(\"C:\\\\Users\\\\Sam\\\\Documents\\\\Data Mining\\\\Project\\\\Park_Factor\\\\Project_Code\\\\MLB_Stadium_Altitudes.xlsx\")\n"
   ]
  },
  {
   "cell_type": "code",
   "execution_count": 8,
   "metadata": {
    "collapsed": true
   },
   "outputs": [],
   "source": [
    "dfRetro = dfRetro.drop(['time_since_1900', 'wOBA_pts', 'bat_hand_cd', 'base1_run_id', 'base2_run_id', 'base3_run_id','pitch_seq_tx','po1_fld_cd', 'po2_fld_cd','pit_start_fl', 'pa_ball_ct', 'pa_strike_ct', 'bat_fate_id', 'run1_fate_id', 'run2_fate_id', 'run3_fate_id', 'battedball_cd', 'inn_new_fl', 'inn_end_fl', 'pit_hand_cd'], axis=1)\n"
   ]
  },
  {
   "cell_type": "code",
   "execution_count": 9,
   "metadata": {},
   "outputs": [
    {
     "name": "stdout",
     "output_type": "stream",
     "text": [
      "2111526\n",
      "2069898\n"
     ]
    }
   ],
   "source": [
    "#now drop any unnecessary events we don't need \n",
    "#stolen bases (4), caught stealing (6), pickoff (8), \n",
    "print(len(dfRetro))\n",
    "\n",
    "dfRetro = dfRetro[dfRetro.event_cd != 4]\n",
    "dfRetro = dfRetro[dfRetro.event_cd != 6]\n",
    "dfRetro = dfRetro[dfRetro.event_cd != 8]\n",
    "\n",
    "\n",
    "print(len(dfRetro))"
   ]
  },
  {
   "cell_type": "code",
   "execution_count": null,
   "metadata": {
    "collapsed": true
   },
   "outputs": [],
   "source": [
    "events_with_altitudes = pd.merge(dfRetro, altitudes, on='home_team_id')\n"
   ]
  },
  {
   "cell_type": "code",
   "execution_count": null,
   "metadata": {},
   "outputs": [],
   "source": [
    "###Calculating runs per 9 here \n",
    "team_ids = []\n",
    "for ii in dfRetro.home_team_id.unique():\n",
    "    team_ids.append(ii)\n",
    "total_runs = [[0 for i in range(2)] for j in range(30)] \n",
    "for i in range(0,30):\n",
    "     total_runs[i][0] = team_ids[i]\n",
    "for i in range(0,30):\n",
    "    \n",
    "    for j in range(0,len(events_with_altitudes)):\n",
    "    \n",
    "        if events_with_altitudes['home_team_id'][j] == total_runs[i][0]:\n",
    "        \n",
    "            total_runs[i][1] += events_with_altitudes['event_runs_ct'][j]"
   ]
  },
  {
   "cell_type": "code",
   "execution_count": null,
   "metadata": {
    "collapsed": true
   },
   "outputs": [],
   "source": [
    "runs_per_9 = [[0 for i in range(2)] for j in range(30)] \n",
    "for i in range(0,30):\n",
    "     runs_per_9[i][0] = team_ids[i]\n",
    "#print(runs_per_9)\n",
    "\n",
    "for i in range(len(total_runs)):\n",
    "    runs_per_9[i][1] = ((total_runs[i][1] * 9)/innings_played[i])\n",
    "print(runs_per_9)"
   ]
  }
 ],
 "metadata": {
  "kernelspec": {
   "display_name": "Python 3",
   "language": "python",
   "name": "python3"
  },
  "language_info": {
   "codemirror_mode": {
    "name": "ipython",
    "version": 3
   },
   "file_extension": ".py",
   "mimetype": "text/x-python",
   "name": "python",
   "nbconvert_exporter": "python",
   "pygments_lexer": "ipython3",
   "version": "3.6.1"
  }
 },
 "nbformat": 4,
 "nbformat_minor": 2
}
